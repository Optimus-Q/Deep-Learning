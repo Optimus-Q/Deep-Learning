{
 "cells": [
  {
   "cell_type": "code",
   "execution_count": 12,
   "metadata": {},
   "outputs": [
    {
     "name": "stderr",
     "output_type": "stream",
     "text": [
      "[nltk_data] Downloading package punkt to\n",
      "[nltk_data]     C:\\Users\\perei\\AppData\\Roaming\\nltk_data...\n",
      "[nltk_data]   Package punkt is already up-to-date!\n"
     ]
    }
   ],
   "source": [
    "import pandas as pd\n",
    "import numpy as np\n",
    "import nltk"
   ]
  },
  {
   "cell_type": "code",
   "execution_count": 13,
   "metadata": {},
   "outputs": [],
   "source": [
    "sentence = \"When an Open Data standard is are created. and promoted, it’s important to think why - what change. is this trying to drive? What will people do with this data. that they couldn’t do before?\""
   ]
  },
  {
   "cell_type": "code",
   "execution_count": 14,
   "metadata": {},
   "outputs": [
    {
     "data": {
      "text/plain": [
       "'when an open data standard is are created. and promoted, it’s important to think why - what change. is this trying to drive? what will people do with this data. that they couldn’t do before?'"
      ]
     },
     "execution_count": 14,
     "metadata": {},
     "output_type": "execute_result"
    }
   ],
   "source": [
    "sentence = sentence.lower()\n",
    "sentence"
   ]
  },
  {
   "cell_type": "code",
   "execution_count": 15,
   "metadata": {},
   "outputs": [
    {
     "data": {
      "text/plain": [
       "['when',\n",
       " 'an',\n",
       " 'open',\n",
       " 'data',\n",
       " 'standard',\n",
       " 'is',\n",
       " 'are',\n",
       " 'created',\n",
       " '.',\n",
       " 'and',\n",
       " 'promoted',\n",
       " ',',\n",
       " 'it',\n",
       " '’',\n",
       " 's',\n",
       " 'important',\n",
       " 'to',\n",
       " 'think',\n",
       " 'why',\n",
       " '-',\n",
       " 'what',\n",
       " 'change',\n",
       " '.',\n",
       " 'is',\n",
       " 'this',\n",
       " 'trying',\n",
       " 'to',\n",
       " 'drive',\n",
       " '?',\n",
       " 'what',\n",
       " 'will',\n",
       " 'people',\n",
       " 'do',\n",
       " 'with',\n",
       " 'this',\n",
       " 'data',\n",
       " '.',\n",
       " 'that',\n",
       " 'they',\n",
       " 'couldn',\n",
       " '’',\n",
       " 't',\n",
       " 'do',\n",
       " 'before',\n",
       " '?']"
      ]
     },
     "execution_count": 15,
     "metadata": {},
     "output_type": "execute_result"
    }
   ],
   "source": [
    "word_token = nltk.word_tokenize(sentence)\n",
    "word_token"
   ]
  },
  {
   "cell_type": "code",
   "execution_count": 16,
   "metadata": {},
   "outputs": [],
   "source": [
    "def Punctuator(words):\n",
    "    punctuations = '''~`@#$%^&*()_-+=/*,-.[]{};:’''\"\"<>?\\|1234567890'''\n",
    "    word_join = []\n",
    "    for t in words:\n",
    "        for p in punctuations:\n",
    "            if (p in t):\n",
    "                t = t.replace(p, '')\n",
    "        word_join.append(t)\n",
    "    return(' '.join(word_join))"
   ]
  },
  {
   "cell_type": "code",
   "execution_count": 17,
   "metadata": {},
   "outputs": [],
   "source": [
    "words = Punctuator(word_token)"
   ]
  },
  {
   "cell_type": "code",
   "execution_count": 18,
   "metadata": {},
   "outputs": [
    {
     "data": {
      "text/plain": [
       "'when an open data standard is are created  and promoted  it  s important to think why  what change  is this trying to drive  what will people do with this data  that they couldn  t do before '"
      ]
     },
     "execution_count": 18,
     "metadata": {},
     "output_type": "execute_result"
    }
   ],
   "source": [
    "words"
   ]
  },
  {
   "cell_type": "code",
   "execution_count": null,
   "metadata": {},
   "outputs": [],
   "source": []
  }
 ],
 "metadata": {
  "kernelspec": {
   "display_name": "Python 3",
   "language": "python",
   "name": "python3"
  },
  "language_info": {
   "codemirror_mode": {
    "name": "ipython",
    "version": 3
   },
   "file_extension": ".py",
   "mimetype": "text/x-python",
   "name": "python",
   "nbconvert_exporter": "python",
   "pygments_lexer": "ipython3",
   "version": "3.8.5"
  }
 },
 "nbformat": 4,
 "nbformat_minor": 4
}
