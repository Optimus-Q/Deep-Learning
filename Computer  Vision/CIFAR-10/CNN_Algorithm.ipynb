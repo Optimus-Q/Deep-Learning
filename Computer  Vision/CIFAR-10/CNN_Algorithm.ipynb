{
  "nbformat": 4,
  "nbformat_minor": 0,
  "metadata": {
    "colab": {
      "name": "CNN_Algorithm.ipynb",
      "provenance": [],
      "collapsed_sections": []
    },
    "kernelspec": {
      "name": "python3",
      "display_name": "Python 3"
    }
  },
  "cells": [
    {
      "cell_type": "code",
      "metadata": {
        "id": "stzTLGLRrNA6",
        "colab_type": "code",
        "colab": {}
      },
      "source": [
        "import numpy as np"
      ],
      "execution_count": null,
      "outputs": []
    },
    {
      "cell_type": "code",
      "metadata": {
        "id": "Gtsy0Fk1rSh_",
        "colab_type": "code",
        "colab": {}
      },
      "source": [
        "def ConVolution_Operation(dataset, padding, stride, channels, filter):\n",
        "\n",
        "### INITALIZARION...\n",
        "\n",
        "  data = dataset\n",
        "  data = np.pad(data, pad_width = padding, mode = 'constant', constant_values = 0 )\n",
        "  \n",
        "  f = filter.shape[1]\n",
        "  arrC = int(data.shape[1])\n",
        "  arrR = int(data.shape[0])\n",
        "\n",
        "\n",
        "  convC, convR , startC ,startR , endC , endR = 0,0,0,0,0,0\n",
        "\n",
        "  endC = endC+f\n",
        "  endR = endR +f\n",
        "\n",
        "  nf = int(((arrC + 2*padding - f)/stride)+1)\n",
        "  n_c = channels\n",
        "  nf_sq = nf*nf\n",
        "  #emp = np.empty(shape = (n_c, nf_sq))\n",
        "  convS = []\n",
        "  #conv_vault = []\n",
        "\n",
        "#### CONVOLUTION...\n",
        "\n",
        "  for i in range((int(nf))*int(nf)):\n",
        "\n",
        "    convA = data[startR:(endR), startC:(endC)]\n",
        "    conv = np.multiply(convA, filter)\n",
        "    conv = np.sum(conv)\n",
        "    convS.append(conv)\n",
        "    startC +=stride\n",
        "\n",
        "    if ((arrC - startC) >= f):\n",
        "      startR = startR\n",
        "      endC = startC + f\n",
        "      endR = startR + f\n",
        "    else:\n",
        "      startR = startR +  stride\n",
        "      startC = 0\n",
        "      endC = startC + f\n",
        "      endR = startR + f\n",
        "\n",
        "    if ((arrR -startR) < f):\n",
        "      #emp[channel] = convS\n",
        "      #conv_vault.append(emp)\n",
        "      break; \n",
        "\n",
        "  return (np.asarray(convS).reshape(-1, int(nf)))   "
      ],
      "execution_count": null,
      "outputs": []
    },
    {
      "cell_type": "code",
      "metadata": {
        "id": "eSlNmLoSsrXU",
        "colab_type": "code",
        "colab": {}
      },
      "source": [
        "def MaxPool(p, f, stride, data):\n",
        "  mpool = []\n",
        "  startC, startR, endC, endR = 0,0,0,0\n",
        "  n = data.shape[0]\n",
        "  nf = int(((n+2*p-f)/stride)+1)\n",
        "  arrC = np.shape(data)[1]\n",
        "  arrR = np.shape(data)[0]\n",
        "  endC += f\n",
        "  endR +=f\n",
        "  for nfs in range(nf*nf):\n",
        "    dat = data[startR:endR, startC:endC]\n",
        "    mx = np.max(dat)\n",
        "    mpool.append(mx)\n",
        "    startC += stride\n",
        "\n",
        "    if ((arrC - startC) >= f):\n",
        "      startR = startR\n",
        "      endC = endC + stride\n",
        "      endR = startR + stride\n",
        "    else:\n",
        "      startR = startR +  stride\n",
        "      startC = 0\n",
        "      endC = startC + stride\n",
        "      endR = startR + stride\n",
        "\n",
        "    if ((arrR -startR) < f):\n",
        "      #emp[channel] = convS\n",
        "      #con_vault.append(emp)\n",
        "      break;   \n",
        "\n",
        "  return (np.asarray(mpool).reshape(-1, nf)) "
      ],
      "execution_count": null,
      "outputs": []
    },
    {
      "cell_type": "code",
      "metadata": {
        "id": "D3QStF62s-gf",
        "colab_type": "code",
        "colab": {}
      },
      "source": [
        "X = np.random.randint(low = 1, high = 4, size = (32,32))\n",
        "\n",
        "filter = np.array([[1,0,-1], [1,0,-1], [1,0,-1]])"
      ],
      "execution_count": null,
      "outputs": []
    },
    {
      "cell_type": "code",
      "metadata": {
        "id": "Aqg66POHtvbu",
        "colab_type": "code",
        "colab": {}
      },
      "source": [
        "conv1 = ConVolution_Operation(dataset = X, padding = 0, stride = 1, channels = 3, filter = filter)\n",
        "conv2 = ConVolution_Operation(dataset = conv1, padding = 0, stride = 1, channels = 3, filter = filter)\n",
        "pool1 = MaxPool(0,2,2,conv2)\n",
        "conv3 = ConVolution_Operation(dataset = pool1, padding = 0, stride = 1, channels = 3, filter = filter)\n",
        "pool2 = MaxPool(0,2,2,conv3)"
      ],
      "execution_count": null,
      "outputs": []
    },
    {
      "cell_type": "code",
      "metadata": {
        "id": "41uu7Z25ub1P",
        "colab_type": "code",
        "colab": {
          "base_uri": "https://localhost:8080/",
          "height": 34
        },
        "outputId": "251c5d09-09b1-4ade-a5d9-73ae521c6692"
      },
      "source": [
        "conv1.shape"
      ],
      "execution_count": null,
      "outputs": [
        {
          "output_type": "execute_result",
          "data": {
            "text/plain": [
              "(30, 30)"
            ]
          },
          "metadata": {
            "tags": []
          },
          "execution_count": 58
        }
      ]
    },
    {
      "cell_type": "code",
      "metadata": {
        "id": "aUVWiatk0b4f",
        "colab_type": "code",
        "colab": {
          "base_uri": "https://localhost:8080/",
          "height": 34
        },
        "outputId": "134ce447-63d0-4e6b-e3e7-6da4b678bb72"
      },
      "source": [
        "conv3.shape"
      ],
      "execution_count": null,
      "outputs": [
        {
          "output_type": "execute_result",
          "data": {
            "text/plain": [
              "(12, 12)"
            ]
          },
          "metadata": {
            "tags": []
          },
          "execution_count": 63
        }
      ]
    },
    {
      "cell_type": "code",
      "metadata": {
        "id": "96Jm_FoxuvXv",
        "colab_type": "code",
        "colab": {
          "base_uri": "https://localhost:8080/",
          "height": 34
        },
        "outputId": "5ab449e2-14e2-46a6-882c-5a479eb65e37"
      },
      "source": [
        "pool2.shape"
      ],
      "execution_count": null,
      "outputs": [
        {
          "output_type": "execute_result",
          "data": {
            "text/plain": [
              "(6, 6)"
            ]
          },
          "metadata": {
            "tags": []
          },
          "execution_count": 62
        }
      ]
    },
    {
      "cell_type": "code",
      "metadata": {
        "id": "13g8IAudxJue",
        "colab_type": "code",
        "colab": {}
      },
      "source": [
        "MaxPool()"
      ],
      "execution_count": null,
      "outputs": []
    },
    {
      "cell_type": "code",
      "metadata": {
        "id": "IHYxGMgDzTBW",
        "colab_type": "code",
        "colab": {
          "base_uri": "https://localhost:8080/",
          "height": 34
        },
        "outputId": "2a449bf6-2818-4f52-cb12-c7d0637735b2"
      },
      "source": [
        "int(7.3)"
      ],
      "execution_count": null,
      "outputs": [
        {
          "output_type": "execute_result",
          "data": {
            "text/plain": [
              "7"
            ]
          },
          "metadata": {
            "tags": []
          },
          "execution_count": 52
        }
      ]
    },
    {
      "cell_type": "code",
      "metadata": {
        "id": "FqOzC19jzVJN",
        "colab_type": "code",
        "colab": {}
      },
      "source": [
        ""
      ],
      "execution_count": null,
      "outputs": []
    }
  ]
}