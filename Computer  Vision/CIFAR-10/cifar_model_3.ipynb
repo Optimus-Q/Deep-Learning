{
  "nbformat": 4,
  "nbformat_minor": 0,
  "metadata": {
    "colab": {
      "name": "cifar_model_3new.ipynb",
      "provenance": [],
      "collapsed_sections": []
    },
    "kernelspec": {
      "name": "python3",
      "display_name": "Python 3"
    },
    "widgets": {
      "application/vnd.jupyter.widget-state+json": {
        "84a5f9189ed84b128b0ee9994bbf3863": {
          "model_module": "@jupyter-widgets/controls",
          "model_name": "HBoxModel",
          "state": {
            "_view_name": "HBoxView",
            "_dom_classes": [],
            "_model_name": "HBoxModel",
            "_view_module": "@jupyter-widgets/controls",
            "_model_module_version": "1.5.0",
            "_view_count": null,
            "_view_module_version": "1.5.0",
            "box_style": "",
            "layout": "IPY_MODEL_3eed8198d688466eb9985379fe637499",
            "_model_module": "@jupyter-widgets/controls",
            "children": [
              "IPY_MODEL_62a533f0dcda410f9bde9cdf73176187",
              "IPY_MODEL_13da70fd38054ed0a676c90b57c54b6f"
            ]
          }
        },
        "3eed8198d688466eb9985379fe637499": {
          "model_module": "@jupyter-widgets/base",
          "model_name": "LayoutModel",
          "state": {
            "_view_name": "LayoutView",
            "grid_template_rows": null,
            "right": null,
            "justify_content": null,
            "_view_module": "@jupyter-widgets/base",
            "overflow": null,
            "_model_module_version": "1.2.0",
            "_view_count": null,
            "flex_flow": null,
            "width": null,
            "min_width": null,
            "border": null,
            "align_items": null,
            "bottom": null,
            "_model_module": "@jupyter-widgets/base",
            "top": null,
            "grid_column": null,
            "overflow_y": null,
            "overflow_x": null,
            "grid_auto_flow": null,
            "grid_area": null,
            "grid_template_columns": null,
            "flex": null,
            "_model_name": "LayoutModel",
            "justify_items": null,
            "grid_row": null,
            "max_height": null,
            "align_content": null,
            "visibility": null,
            "align_self": null,
            "height": null,
            "min_height": null,
            "padding": null,
            "grid_auto_rows": null,
            "grid_gap": null,
            "max_width": null,
            "order": null,
            "_view_module_version": "1.2.0",
            "grid_template_areas": null,
            "object_position": null,
            "object_fit": null,
            "grid_auto_columns": null,
            "margin": null,
            "display": null,
            "left": null
          }
        },
        "62a533f0dcda410f9bde9cdf73176187": {
          "model_module": "@jupyter-widgets/controls",
          "model_name": "FloatProgressModel",
          "state": {
            "_view_name": "ProgressView",
            "style": "IPY_MODEL_2e2bd44e53e84b779aaa949a8a49ac6f",
            "_dom_classes": [],
            "description": "",
            "_model_name": "FloatProgressModel",
            "bar_style": "info",
            "max": 1,
            "_view_module": "@jupyter-widgets/controls",
            "_model_module_version": "1.5.0",
            "value": 1,
            "_view_count": null,
            "_view_module_version": "1.5.0",
            "orientation": "horizontal",
            "min": 0,
            "description_tooltip": null,
            "_model_module": "@jupyter-widgets/controls",
            "layout": "IPY_MODEL_756145296408408b87f43599854296df"
          }
        },
        "13da70fd38054ed0a676c90b57c54b6f": {
          "model_module": "@jupyter-widgets/controls",
          "model_name": "HTMLModel",
          "state": {
            "_view_name": "HTMLView",
            "style": "IPY_MODEL_6c6e6ed10ee64c058246624718200f1b",
            "_dom_classes": [],
            "description": "",
            "_model_name": "HTMLModel",
            "placeholder": "​",
            "_view_module": "@jupyter-widgets/controls",
            "_model_module_version": "1.5.0",
            "value": " 170500096/? [00:30&lt;00:00, 17422807.98it/s]",
            "_view_count": null,
            "_view_module_version": "1.5.0",
            "description_tooltip": null,
            "_model_module": "@jupyter-widgets/controls",
            "layout": "IPY_MODEL_8046a86a5b554f67adf14e1fc300e14d"
          }
        },
        "2e2bd44e53e84b779aaa949a8a49ac6f": {
          "model_module": "@jupyter-widgets/controls",
          "model_name": "ProgressStyleModel",
          "state": {
            "_view_name": "StyleView",
            "_model_name": "ProgressStyleModel",
            "description_width": "initial",
            "_view_module": "@jupyter-widgets/base",
            "_model_module_version": "1.5.0",
            "_view_count": null,
            "_view_module_version": "1.2.0",
            "bar_color": null,
            "_model_module": "@jupyter-widgets/controls"
          }
        },
        "756145296408408b87f43599854296df": {
          "model_module": "@jupyter-widgets/base",
          "model_name": "LayoutModel",
          "state": {
            "_view_name": "LayoutView",
            "grid_template_rows": null,
            "right": null,
            "justify_content": null,
            "_view_module": "@jupyter-widgets/base",
            "overflow": null,
            "_model_module_version": "1.2.0",
            "_view_count": null,
            "flex_flow": null,
            "width": null,
            "min_width": null,
            "border": null,
            "align_items": null,
            "bottom": null,
            "_model_module": "@jupyter-widgets/base",
            "top": null,
            "grid_column": null,
            "overflow_y": null,
            "overflow_x": null,
            "grid_auto_flow": null,
            "grid_area": null,
            "grid_template_columns": null,
            "flex": null,
            "_model_name": "LayoutModel",
            "justify_items": null,
            "grid_row": null,
            "max_height": null,
            "align_content": null,
            "visibility": null,
            "align_self": null,
            "height": null,
            "min_height": null,
            "padding": null,
            "grid_auto_rows": null,
            "grid_gap": null,
            "max_width": null,
            "order": null,
            "_view_module_version": "1.2.0",
            "grid_template_areas": null,
            "object_position": null,
            "object_fit": null,
            "grid_auto_columns": null,
            "margin": null,
            "display": null,
            "left": null
          }
        },
        "6c6e6ed10ee64c058246624718200f1b": {
          "model_module": "@jupyter-widgets/controls",
          "model_name": "DescriptionStyleModel",
          "state": {
            "_view_name": "StyleView",
            "_model_name": "DescriptionStyleModel",
            "description_width": "",
            "_view_module": "@jupyter-widgets/base",
            "_model_module_version": "1.5.0",
            "_view_count": null,
            "_view_module_version": "1.2.0",
            "_model_module": "@jupyter-widgets/controls"
          }
        },
        "8046a86a5b554f67adf14e1fc300e14d": {
          "model_module": "@jupyter-widgets/base",
          "model_name": "LayoutModel",
          "state": {
            "_view_name": "LayoutView",
            "grid_template_rows": null,
            "right": null,
            "justify_content": null,
            "_view_module": "@jupyter-widgets/base",
            "overflow": null,
            "_model_module_version": "1.2.0",
            "_view_count": null,
            "flex_flow": null,
            "width": null,
            "min_width": null,
            "border": null,
            "align_items": null,
            "bottom": null,
            "_model_module": "@jupyter-widgets/base",
            "top": null,
            "grid_column": null,
            "overflow_y": null,
            "overflow_x": null,
            "grid_auto_flow": null,
            "grid_area": null,
            "grid_template_columns": null,
            "flex": null,
            "_model_name": "LayoutModel",
            "justify_items": null,
            "grid_row": null,
            "max_height": null,
            "align_content": null,
            "visibility": null,
            "align_self": null,
            "height": null,
            "min_height": null,
            "padding": null,
            "grid_auto_rows": null,
            "grid_gap": null,
            "max_width": null,
            "order": null,
            "_view_module_version": "1.2.0",
            "grid_template_areas": null,
            "object_position": null,
            "object_fit": null,
            "grid_auto_columns": null,
            "margin": null,
            "display": null,
            "left": null
          }
        }
      }
    }
  },
  "cells": [
    {
      "cell_type": "code",
      "metadata": {
        "id": "cK_MpDXg32qa",
        "colab_type": "code",
        "colab": {}
      },
      "source": [
        "\n",
        "#### IMPORTING LIBRARIES...\n",
        "\n",
        "import torch\n",
        "import torch.nn as nn\n",
        "import torch.nn.functional as F\n",
        "import torch.optim as optim\n",
        "from torchvision import datasets, transforms\n",
        "from torchvision.utils import make_grid\n",
        "from torch.utils.data import DataLoader\n",
        "from sklearn.metrics import accuracy_score\n",
        "from sklearn.model_selection import train_test_split\n",
        "\n",
        "import numpy as np\n",
        "import pandas as pd\n",
        "import matplotlib.pyplot as plt\n",
        "%matplotlib inline"
      ],
      "execution_count": null,
      "outputs": []
    },
    {
      "cell_type": "code",
      "metadata": {
        "id": "46aafNaW5uOe",
        "colab_type": "code",
        "colab": {
          "base_uri": "https://localhost:8080/",
          "height": 102,
          "referenced_widgets": [
            "84a5f9189ed84b128b0ee9994bbf3863",
            "3eed8198d688466eb9985379fe637499",
            "62a533f0dcda410f9bde9cdf73176187",
            "13da70fd38054ed0a676c90b57c54b6f",
            "2e2bd44e53e84b779aaa949a8a49ac6f",
            "756145296408408b87f43599854296df",
            "6c6e6ed10ee64c058246624718200f1b",
            "8046a86a5b554f67adf14e1fc300e14d"
          ]
        },
        "outputId": "96e5b741-fb5f-4467-facf-49af72317fb6"
      },
      "source": [
        "transformTrain = transforms.Compose([transforms.ToTensor(), transforms.RandomHorizontalFlip(), transforms.Normalize((0.5,0.5,0.5), (0.5,0.5,0.5))])\n",
        "transformTest = transforms.Compose([transforms.ToTensor(), transforms.Normalize((0.5,0.5,0.5), (0.5,0.5,0.5))])\n",
        "\n",
        "#transform = transforms.ToTensor()\n",
        "train_data = datasets.CIFAR10(root = '/content/', train = True, transform=transformTrain, download = True)\n",
        "test_data = datasets.CIFAR10(root = '/content/', train = False, transform=transformTest, download = True)"
      ],
      "execution_count": null,
      "outputs": [
        {
          "output_type": "stream",
          "text": [
            "Downloading https://www.cs.toronto.edu/~kriz/cifar-10-python.tar.gz to /content/cifar-10-python.tar.gz\n"
          ],
          "name": "stdout"
        },
        {
          "output_type": "display_data",
          "data": {
            "application/vnd.jupyter.widget-view+json": {
              "model_id": "84a5f9189ed84b128b0ee9994bbf3863",
              "version_minor": 0,
              "version_major": 2
            },
            "text/plain": [
              "HBox(children=(FloatProgress(value=1.0, bar_style='info', max=1.0), HTML(value='')))"
            ]
          },
          "metadata": {
            "tags": []
          }
        },
        {
          "output_type": "stream",
          "text": [
            "Extracting /content/cifar-10-python.tar.gz to /content/\n",
            "Files already downloaded and verified\n"
          ],
          "name": "stdout"
        }
      ]
    },
    {
      "cell_type": "code",
      "metadata": {
        "id": "ZhtMIGLu5uU7",
        "colab_type": "code",
        "colab": {}
      },
      "source": [
        "torch.manual_seed(30)\n",
        "train_loader  = DataLoader(dataset = train_data, batch_size = 10, shuffle = True, pin_memory=True)\n",
        "test_loader = DataLoader(dataset=test_data, batch_size=10, shuffle = False, pin_memory=True)"
      ],
      "execution_count": null,
      "outputs": []
    },
    {
      "cell_type": "code",
      "metadata": {
        "id": "X48tbrNZ5uMp",
        "colab_type": "code",
        "colab": {}
      },
      "source": [
        "def classes_sample(classes):\n",
        "  pred_cls = []\n",
        "  for cls in (classes):\n",
        "    labels = ['plane', 'car', 'bird', 'cat','deer', 'dog', 'frog', 'horse', 'ship', 'truck']\n",
        "    pred_cls.append(labels[cls])\n",
        "  return (pred_cls)"
      ],
      "execution_count": null,
      "outputs": []
    },
    {
      "cell_type": "code",
      "metadata": {
        "id": "9Yz7GSZ95uKh",
        "colab_type": "code",
        "colab": {
          "base_uri": "https://localhost:8080/",
          "height": 633
        },
        "outputId": "41ee2862-69f9-4fd5-fddb-f1b7a4b6cd28"
      },
      "source": [
        "for images, classes in (train_loader):\n",
        "  break\n",
        "\n",
        "im_train_sample = images\n",
        "im_classes_sample = classes\n",
        "\n",
        "print(\"The shape of first train batch is: \", im_train_sample.shape)\n",
        "print(\"The shape of first test batch is: \", im_classes_sample.shape)\n",
        "\n",
        "plt.figure(figsize = (8,4))\n",
        "plt.title(\"First train sample image\")\n",
        "plt.imshow(np.transpose(im_train_sample[1].numpy(), (1,2,0)))\n",
        "\n",
        "plt.figure(figsize=(10,4))\n",
        "plt.title(\"First train batch image grid\")\n",
        "im_grid = make_grid(im_train_sample, nrow = 5).numpy()\n",
        "\n",
        "print(\"predicted classes are: \", classes_sample(im_classes_sample))\n",
        "plt.imshow(np.transpose(im_grid, (1,2,0)));"
      ],
      "execution_count": null,
      "outputs": [
        {
          "output_type": "stream",
          "text": [
            "Clipping input data to the valid range for imshow with RGB data ([0..1] for floats or [0..255] for integers).\n",
            "Clipping input data to the valid range for imshow with RGB data ([0..1] for floats or [0..255] for integers).\n"
          ],
          "name": "stderr"
        },
        {
          "output_type": "stream",
          "text": [
            "The shape of first train batch is:  torch.Size([10, 3, 32, 32])\n",
            "The shape of first test batch is:  torch.Size([10])\n",
            "predicted classes are:  ['bird', 'ship', 'horse', 'frog', 'ship', 'car', 'cat', 'horse', 'horse', 'deer']\n"
          ],
          "name": "stdout"
        },
        {
          "output_type": "display_data",
          "data": {
            "image/png": "[encoded data removed]",
            "text/plain": [
              "<Figure size 576x288 with 1 Axes>"
            ]
          },
          "metadata": {
            "tags": [],
            "needs_background": "light"
          }
        },
        {
          "output_type": "display_data",
          "data": {
            "image/png": "[encoded data removed]",
            "text/plain": [
              "<Figure size 720x288 with 1 Axes>"
            ]
          },
          "metadata": {
            "tags": [],
            "needs_background": "light"
          }
        }
      ]
    },
    {
      "cell_type": "code",
      "metadata": {
        "id": "U6-BSn_z5uGU",
        "colab_type": "code",
        "colab": {}
      },
      "source": [
        "class CNN_model_3(nn.Module):\n",
        "\n",
        "  def __init__(self):\n",
        "    super().__init__()\n",
        "\n",
        "    self.conv1 = nn.Conv2d(3,3,3, bias=False)\n",
        "    self.bn1 = nn.BatchNorm2d(3)\n",
        "    self.conv2 = nn.Conv2d(3,16,3)\n",
        "    self.pool1 = nn.MaxPool2d(kernel_size = (2,2), stride =2)\n",
        "    self.conv3 = nn.Conv2d(16,45,3, padding=1, stride = 2)\n",
        "    self.pool2 = nn.MaxPool2d(kernel_size = (2,2), stride =2)\n",
        "    self.fc1 = nn.Linear(7*7*45, 80)\n",
        "    self.fc2 = nn.Linear(80,10)\n",
        "\n",
        "  def forward(self, x):\n",
        "    x = F.relu(self.conv1(x))\n",
        "    x = self.bn1(x)\n",
        "    x = self.pool1(F.relu(self.conv2(x)))\n",
        "    x = F.relu(self.conv3(x))\n",
        "    x = x.view(-1, 7*7*45)\n",
        "    x = F.relu(self.fc1(x))\n",
        "    x =  F.relu(self.fc2(x))\n",
        "    return F.log_softmax(x, dim=1)"
      ],
      "execution_count": null,
      "outputs": []
    },
    {
      "cell_type": "code",
      "metadata": {
        "id": "uPI2KvoH5_Dy",
        "colab_type": "code",
        "colab": {
          "base_uri": "https://localhost:8080/",
          "height": 194
        },
        "outputId": "5a68aef8-6a83-431c-c3b0-842c8abfcebf"
      },
      "source": [
        "torch.manual_seed(30)\n",
        "model = CNN_model_3()\n",
        "model"
      ],
      "execution_count": null,
      "outputs": [
        {
          "output_type": "execute_result",
          "data": {
            "text/plain": [
              "CNN_model_3(\n",
              "  (conv1): Conv2d(3, 3, kernel_size=(3, 3), stride=(1, 1), bias=False)\n",
              "  (bn1): BatchNorm2d(3, eps=1e-05, momentum=0.1, affine=True, track_running_stats=True)\n",
              "  (conv2): Conv2d(3, 16, kernel_size=(3, 3), stride=(1, 1))\n",
              "  (pool1): MaxPool2d(kernel_size=(2, 2), stride=2, padding=0, dilation=1, ceil_mode=False)\n",
              "  (conv3): Conv2d(16, 45, kernel_size=(3, 3), stride=(2, 2), padding=(1, 1))\n",
              "  (pool2): MaxPool2d(kernel_size=(2, 2), stride=2, padding=0, dilation=1, ceil_mode=False)\n",
              "  (fc1): Linear(in_features=2205, out_features=80, bias=True)\n",
              "  (fc2): Linear(in_features=80, out_features=10, bias=True)\n",
              ")"
            ]
          },
          "metadata": {
            "tags": []
          },
          "execution_count": 7
        }
      ]
    },
    {
      "cell_type": "code",
      "metadata": {
        "id": "SRN6A2SI5_JJ",
        "colab_type": "code",
        "colab": {}
      },
      "source": [
        "criterion = nn.CrossEntropyLoss()\n",
        "optimizer = optim.SGD(model.parameters(), lr = 0.001)"
      ],
      "execution_count": null,
      "outputs": []
    },
    {
      "cell_type": "code",
      "metadata": {
        "id": "XoItv_uf6UjD",
        "colab_type": "code",
        "colab": {}
      },
      "source": [
        "def GetAccuarcy(yp, yt):\n",
        "  return(accuracy_score(yt, yp))"
      ],
      "execution_count": null,
      "outputs": []
    },
    {
      "cell_type": "code",
      "metadata": {
        "id": "nKl_bg9B6UoX",
        "colab_type": "code",
        "colab": {
          "base_uri": "https://localhost:8080/",
          "height": 478
        },
        "outputId": "7b2363e8-69c2-4c98-b822-414327f25e8e"
      },
      "source": [
        "##### TRAINING....\n",
        "\n",
        "torch.manual_seed(30)\n",
        "\n",
        "#### SAVING ALL THE RESULTS\n",
        "\n",
        "training_loss = []\n",
        "testing_loss = []\n",
        "training_accuracy = []\n",
        "testing_accuracy = []\n",
        "total_test_correct = 0\n",
        "total_test_im = 0\n",
        "epochs = 5\n",
        "\n",
        "for i in range(epochs):\n",
        "\n",
        "  for iter_num, (xtrain, ytrain) in enumerate(train_loader):\n",
        "    iter_num+=1\n",
        "    ypred = model(xtrain)                                        #forward propagation\n",
        "    train_loss = criterion(ypred, ytrain)\n",
        "\n",
        "    predicted = torch.max(ypred.data, 1)[1]\n",
        "    \n",
        "    train_accuracy = GetAccuarcy(predicted, ytrain)*100\n",
        " \n",
        "    optimizer.zero_grad()\n",
        "\n",
        "    train_loss.backward()                                         # Backpropagation\n",
        "\n",
        "    optimizer.step()\n",
        "\n",
        "    if (iter_num%1000 == 0):\n",
        "      print(\"Epoch : {} | Loss: {} | Training accuracy : {}%\".format(i, train_loss, train_accuracy))\n",
        "  train_accuracy = GetAccuarcy(predicted, ytrain)*100\n",
        "  training_accuracy.append(train_accuracy)\n",
        "  training_loss.append(train_loss)\n",
        "\n",
        "#### TESTING....\n",
        "\n",
        "with torch.no_grad():\n",
        "  for iter_num, (xtest, ytest) in enumerate (test_loader):\n",
        "\n",
        "    yval = model(xtest)                                          # testing\n",
        "\n",
        "    predicted = torch.max(yval.data, 1)[1]\n",
        "    total_test_im += len(ytest)\n",
        "    total_test_correct += (predicted == ytest).sum().item()\n",
        "  Test_accuracy = GetAccuarcy(predicted, ytest)*100\n",
        "  testing_accuracy.append(Test_accuracy)\n",
        "\n",
        "test_loss = criterion(yval, ytest)\n",
        "testing_loss.append(test_loss)\n",
        "print(\" ///////////   TESTING ACCURACY AFTER EPOCH: {} IS {}%\\\\\\\\\\\\\\\\\\\\\".format(i, Test_accuracy))"
      ],
      "execution_count": null,
      "outputs": [
        {
          "output_type": "stream",
          "text": [
            "Epoch : 0 | Loss: 2.2721142768859863 | Training accuracy : 20.0%\n",
            "Epoch : 0 | Loss: 2.2591750621795654 | Training accuracy : 20.0%\n",
            "Epoch : 0 | Loss: 2.2736384868621826 | Training accuracy : 0.0%\n",
            "Epoch : 0 | Loss: 1.9591556787490845 | Training accuracy : 30.0%\n",
            "Epoch : 0 | Loss: 1.8775421380996704 | Training accuracy : 40.0%\n",
            "Epoch : 1 | Loss: 1.895965337753296 | Training accuracy : 30.0%\n",
            "Epoch : 1 | Loss: 1.9127776622772217 | Training accuracy : 50.0%\n",
            "Epoch : 1 | Loss: 1.9676469564437866 | Training accuracy : 30.0%\n",
            "Epoch : 1 | Loss: 1.9088817834854126 | Training accuracy : 40.0%\n",
            "Epoch : 1 | Loss: 2.0630571842193604 | Training accuracy : 10.0%\n",
            "Epoch : 2 | Loss: 1.7285045385360718 | Training accuracy : 40.0%\n",
            "Epoch : 2 | Loss: 1.7189594507217407 | Training accuracy : 40.0%\n",
            "Epoch : 2 | Loss: 1.8571058511734009 | Training accuracy : 40.0%\n",
            "Epoch : 2 | Loss: 2.415771961212158 | Training accuracy : 0.0%\n",
            "Epoch : 2 | Loss: 1.6097638607025146 | Training accuracy : 50.0%\n",
            "Epoch : 3 | Loss: 2.1122467517852783 | Training accuracy : 20.0%\n",
            "Epoch : 3 | Loss: 2.1466097831726074 | Training accuracy : 40.0%\n",
            "Epoch : 3 | Loss: 1.6510257720947266 | Training accuracy : 40.0%\n",
            "Epoch : 3 | Loss: 2.1831564903259277 | Training accuracy : 20.0%\n",
            "Epoch : 3 | Loss: 1.9315588474273682 | Training accuracy : 10.0%\n",
            "Epoch : 4 | Loss: 1.3810093402862549 | Training accuracy : 60.0%\n",
            "Epoch : 4 | Loss: 1.561535120010376 | Training accuracy : 40.0%\n",
            "Epoch : 4 | Loss: 1.5540176630020142 | Training accuracy : 40.0%\n",
            "Epoch : 4 | Loss: 1.6630375385284424 | Training accuracy : 30.0%\n",
            "Epoch : 4 | Loss: 1.7569875717163086 | Training accuracy : 40.0%\n",
            " ///////////   TESTING ACCURACY AFTER EPOCH: 4 IS 70.0%\\\\\\\\\\\n"
          ],
          "name": "stdout"
        }
      ]
    },
    {
      "cell_type": "code",
      "metadata": {
        "id": "K0azuebj6UgV",
        "colab_type": "code",
        "colab": {
          "base_uri": "https://localhost:8080/",
          "height": 404
        },
        "outputId": "969b84dc-2ebc-4cc1-c9a0-64dbe060c870"
      },
      "source": [
        "plt.figure(figsize = (8,6))\n",
        "plt.plot(training_loss, color = 'green', marker = '^', label = \"Train\")\n",
        "plt.plot(testing_loss, color = 'blue', marker = 'o', label = 'Test')\n",
        "plt.title(\"Training loss after each batch traning\")\n",
        "plt.xlabel(\"Epoch number\")\n",
        "plt.ylabel(\"Loss\")\n",
        "plt.legend()\n",
        "plt.show()"
      ],
      "execution_count": null,
      "outputs": [
        {
          "output_type": "display_data",
          "data": {
            "image/png": "[encoded data removed]",
            "text/plain": [
              "<Figure size 576x432 with 1 Axes>"
            ]
          },
          "metadata": {
            "tags": [],
            "needs_background": "light"
          }
        }
      ]
    },
    {
      "cell_type": "code",
      "metadata": {
        "id": "xNd_R7_i5_Bd",
        "colab_type": "code",
        "colab": {
          "base_uri": "https://localhost:8080/",
          "height": 404
        },
        "outputId": "ac15f001-6f0f-403d-aa8a-b5233f383501"
      },
      "source": [
        "plt.figure(figsize = (8,6))\n",
        "plt.plot(training_accuracy, color = 'green', marker = '^', label = \"Train\")\n",
        "plt.plot(testing_accuracy, color = 'blue', marker = 'o', label = 'Test')\n",
        "plt.title(\"Training and testing accuracy after each batch traning\")\n",
        "plt.xlabel(\"Epoch number\")\n",
        "plt.ylabel(\"Accuracy\")\n",
        "plt.legend()\n",
        "plt.show()"
      ],
      "execution_count": null,
      "outputs": [
        {
          "output_type": "display_data",
          "data": {
            "image/png": "[encoded data removed]",
            "text/plain": [
              "<Figure size 576x432 with 1 Axes>"
            ]
          },
          "metadata": {
            "tags": [],
            "needs_background": "light"
          }
        }
      ]
    },
    {
      "cell_type": "code",
      "metadata": {
        "id": "sWPSS06BdieV",
        "colab_type": "code",
        "colab": {}
      },
      "source": [
        ""
      ],
      "execution_count": null,
      "outputs": []
    }
  ]
}