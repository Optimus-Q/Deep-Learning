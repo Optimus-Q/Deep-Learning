{
  "nbformat": 4,
  "nbformat_minor": 0,
  "metadata": {
    "colab": {
      "name": "cifar_model2@2.ipynb",
      "provenance": [],
      "collapsed_sections": []
    },
    "kernelspec": {
      "name": "python3",
      "display_name": "Python 3"
    },
    "widgets": {
      "application/vnd.jupyter.widget-state+json": {
        "12759104bb504c1d8b407aaca5f79996": {
          "model_module": "@jupyter-widgets/controls",
          "model_name": "HBoxModel",
          "state": {
            "_view_name": "HBoxView",
            "_dom_classes": [],
            "_model_name": "HBoxModel",
            "_view_module": "@jupyter-widgets/controls",
            "_model_module_version": "1.5.0",
            "_view_count": null,
            "_view_module_version": "1.5.0",
            "box_style": "",
            "layout": "IPY_MODEL_9c9bf857798f42cd8c355ba56c74c9fa",
            "_model_module": "@jupyter-widgets/controls",
            "children": [
              "IPY_MODEL_767e1bd9f1e44ae2aa136881029d04a2",
              "IPY_MODEL_17aadf2256b2489f8eddc26d3b53a3c4"
            ]
          }
        },
        "9c9bf857798f42cd8c355ba56c74c9fa": {
          "model_module": "@jupyter-widgets/base",
          "model_name": "LayoutModel",
          "state": {
            "_view_name": "LayoutView",
            "grid_template_rows": null,
            "right": null,
            "justify_content": null,
            "_view_module": "@jupyter-widgets/base",
            "overflow": null,
            "_model_module_version": "1.2.0",
            "_view_count": null,
            "flex_flow": null,
            "width": null,
            "min_width": null,
            "border": null,
            "align_items": null,
            "bottom": null,
            "_model_module": "@jupyter-widgets/base",
            "top": null,
            "grid_column": null,
            "overflow_y": null,
            "overflow_x": null,
            "grid_auto_flow": null,
            "grid_area": null,
            "grid_template_columns": null,
            "flex": null,
            "_model_name": "LayoutModel",
            "justify_items": null,
            "grid_row": null,
            "max_height": null,
            "align_content": null,
            "visibility": null,
            "align_self": null,
            "height": null,
            "min_height": null,
            "padding": null,
            "grid_auto_rows": null,
            "grid_gap": null,
            "max_width": null,
            "order": null,
            "_view_module_version": "1.2.0",
            "grid_template_areas": null,
            "object_position": null,
            "object_fit": null,
            "grid_auto_columns": null,
            "margin": null,
            "display": null,
            "left": null
          }
        },
        "767e1bd9f1e44ae2aa136881029d04a2": {
          "model_module": "@jupyter-widgets/controls",
          "model_name": "FloatProgressModel",
          "state": {
            "_view_name": "ProgressView",
            "style": "IPY_MODEL_72ddf95d55334184a6bbfa2cfbe9b25d",
            "_dom_classes": [],
            "description": "",
            "_model_name": "FloatProgressModel",
            "bar_style": "info",
            "max": 1,
            "_view_module": "@jupyter-widgets/controls",
            "_model_module_version": "1.5.0",
            "value": 1,
            "_view_count": null,
            "_view_module_version": "1.5.0",
            "orientation": "horizontal",
            "min": 0,
            "description_tooltip": null,
            "_model_module": "@jupyter-widgets/controls",
            "layout": "IPY_MODEL_fdf4cf194631404f8f018cb98a355dbb"
          }
        },
        "17aadf2256b2489f8eddc26d3b53a3c4": {
          "model_module": "@jupyter-widgets/controls",
          "model_name": "HTMLModel",
          "state": {
            "_view_name": "HTMLView",
            "style": "IPY_MODEL_5ec248e9614c467795057980feeb9e59",
            "_dom_classes": [],
            "description": "",
            "_model_name": "HTMLModel",
            "placeholder": "​",
            "_view_module": "@jupyter-widgets/controls",
            "_model_module_version": "1.5.0",
            "value": " 170500096/? [00:20&lt;00:00, 65285103.65it/s]",
            "_view_count": null,
            "_view_module_version": "1.5.0",
            "description_tooltip": null,
            "_model_module": "@jupyter-widgets/controls",
            "layout": "IPY_MODEL_47758f83ecad49e09203833754e003e0"
          }
        },
        "72ddf95d55334184a6bbfa2cfbe9b25d": {
          "model_module": "@jupyter-widgets/controls",
          "model_name": "ProgressStyleModel",
          "state": {
            "_view_name": "StyleView",
            "_model_name": "ProgressStyleModel",
            "description_width": "initial",
            "_view_module": "@jupyter-widgets/base",
            "_model_module_version": "1.5.0",
            "_view_count": null,
            "_view_module_version": "1.2.0",
            "bar_color": null,
            "_model_module": "@jupyter-widgets/controls"
          }
        },
        "fdf4cf194631404f8f018cb98a355dbb": {
          "model_module": "@jupyter-widgets/base",
          "model_name": "LayoutModel",
          "state": {
            "_view_name": "LayoutView",
            "grid_template_rows": null,
            "right": null,
            "justify_content": null,
            "_view_module": "@jupyter-widgets/base",
            "overflow": null,
            "_model_module_version": "1.2.0",
            "_view_count": null,
            "flex_flow": null,
            "width": null,
            "min_width": null,
            "border": null,
            "align_items": null,
            "bottom": null,
            "_model_module": "@jupyter-widgets/base",
            "top": null,
            "grid_column": null,
            "overflow_y": null,
            "overflow_x": null,
            "grid_auto_flow": null,
            "grid_area": null,
            "grid_template_columns": null,
            "flex": null,
            "_model_name": "LayoutModel",
            "justify_items": null,
            "grid_row": null,
            "max_height": null,
            "align_content": null,
            "visibility": null,
            "align_self": null,
            "height": null,
            "min_height": null,
            "padding": null,
            "grid_auto_rows": null,
            "grid_gap": null,
            "max_width": null,
            "order": null,
            "_view_module_version": "1.2.0",
            "grid_template_areas": null,
            "object_position": null,
            "object_fit": null,
            "grid_auto_columns": null,
            "margin": null,
            "display": null,
            "left": null
          }
        },
        "5ec248e9614c467795057980feeb9e59": {
          "model_module": "@jupyter-widgets/controls",
          "model_name": "DescriptionStyleModel",
          "state": {
            "_view_name": "StyleView",
            "_model_name": "DescriptionStyleModel",
            "description_width": "",
            "_view_module": "@jupyter-widgets/base",
            "_model_module_version": "1.5.0",
            "_view_count": null,
            "_view_module_version": "1.2.0",
            "_model_module": "@jupyter-widgets/controls"
          }
        },
        "47758f83ecad49e09203833754e003e0": {
          "model_module": "@jupyter-widgets/base",
          "model_name": "LayoutModel",
          "state": {
            "_view_name": "LayoutView",
            "grid_template_rows": null,
            "right": null,
            "justify_content": null,
            "_view_module": "@jupyter-widgets/base",
            "overflow": null,
            "_model_module_version": "1.2.0",
            "_view_count": null,
            "flex_flow": null,
            "width": null,
            "min_width": null,
            "border": null,
            "align_items": null,
            "bottom": null,
            "_model_module": "@jupyter-widgets/base",
            "top": null,
            "grid_column": null,
            "overflow_y": null,
            "overflow_x": null,
            "grid_auto_flow": null,
            "grid_area": null,
            "grid_template_columns": null,
            "flex": null,
            "_model_name": "LayoutModel",
            "justify_items": null,
            "grid_row": null,
            "max_height": null,
            "align_content": null,
            "visibility": null,
            "align_self": null,
            "height": null,
            "min_height": null,
            "padding": null,
            "grid_auto_rows": null,
            "grid_gap": null,
            "max_width": null,
            "order": null,
            "_view_module_version": "1.2.0",
            "grid_template_areas": null,
            "object_position": null,
            "object_fit": null,
            "grid_auto_columns": null,
            "margin": null,
            "display": null,
            "left": null
          }
        }
      }
    }
  },
  "cells": [
    {
      "cell_type": "code",
      "metadata": {
        "id": "5bzy95eS2IPC",
        "colab_type": "code",
        "colab": {
          "base_uri": "https://localhost:8080/",
          "height": 1000,
          "referenced_widgets": [
            "12759104bb504c1d8b407aaca5f79996",
            "9c9bf857798f42cd8c355ba56c74c9fa",
            "767e1bd9f1e44ae2aa136881029d04a2",
            "17aadf2256b2489f8eddc26d3b53a3c4",
            "72ddf95d55334184a6bbfa2cfbe9b25d",
            "fdf4cf194631404f8f018cb98a355dbb",
            "5ec248e9614c467795057980feeb9e59",
            "47758f83ecad49e09203833754e003e0"
          ]
        },
        "outputId": "1bdd7335-23d1-4c5a-d7b8-93e80222415b"
      },
      "source": [
        "#### IMPORTING LIBRARIES...\n",
        "\n",
        "import torch\n",
        "import torch.nn as nn\n",
        "import torch.nn.functional as F\n",
        "import torch.optim as optim\n",
        "from torchvision import datasets, transforms\n",
        "from torchvision.utils import make_grid\n",
        "from torch.utils.data import DataLoader\n",
        "from sklearn.metrics import accuracy_score\n",
        "from sklearn.model_selection import train_test_split\n",
        "\n",
        "import numpy as np\n",
        "import pandas as pd\n",
        "import matplotlib.pyplot as plt\n",
        "%matplotlib inline\n",
        "\n",
        "\n",
        "transformTrain = transforms.Compose([transforms.ToTensor(), transforms.RandomHorizontalFlip(), transforms.Normalize((0.5,0.5,0.5), (0.5,0.5,0.5))])\n",
        "transformTest = transforms.Compose([transforms.ToTensor(), transforms.Normalize((0.5,0.5,0.5), (0.5,0.5,0.5))])\n",
        "train_data = datasets.CIFAR10(root = '/content/', train = True, transform=transformTrain, download = True)\n",
        "test_data = datasets.CIFAR10(root = '/content/', train = False, transform=transformTest, download = True)\n",
        "\n",
        "\n",
        "torch.manual_seed(30)\n",
        "train_loader  = DataLoader(dataset = train_data, batch_size = 10, shuffle = True)\n",
        "test_loader = DataLoader(dataset=test_data, batch_size=10, shuffle = False)\n",
        "\n",
        "\n",
        "def classes_sample(classes):\n",
        "  pred_cls = []\n",
        "  for cls in (classes):\n",
        "    labels = ['plane', 'car', 'bird', 'cat','deer', 'dog', 'frog', 'horse', 'ship', 'truck']\n",
        "    pred_cls.append(labels[cls])\n",
        "  return (pred_cls)\n",
        "\n",
        "\n",
        "for images, classes in (train_loader):\n",
        "  break\n",
        "\n",
        "im_train_sample = images\n",
        "im_classes_sample = classes\n",
        "\n",
        "print(\"The shape of first train batch is: \", im_train_sample.shape)\n",
        "print(\"The shape of first test batch is: \", im_classes_sample.shape)\n",
        "\n",
        "plt.figure(figsize = (8,4))\n",
        "plt.title(\"First train sample image\")\n",
        "plt.imshow(np.transpose(im_train_sample[1].numpy(), (1,2,0)))\n",
        "\n",
        "plt.figure(figsize=(10,4))\n",
        "plt.title(\"First train batch image grid\")\n",
        "im_grid = make_grid(im_train_sample, nrow = 5).numpy()\n",
        "\n",
        "print(\"predicted classes are: \", classes_sample(im_classes_sample))\n",
        "plt.imshow(np.transpose(im_grid, (1,2,0)));\n",
        "\n",
        "\n",
        "class CNN_model_2(nn.Module):\n",
        "\n",
        "  def __init__(self):\n",
        "    super().__init__()\n",
        "\n",
        "    self.conv1 = nn.Conv2d(3, 30, 5, 1)             \n",
        "    self.conv2 = nn.Conv2d(30,60, 3, 1)\n",
        "    self.pool = nn.MaxPool2d(kernel_size=(2,2), stride = 2)\n",
        "    self.fc1 = nn.Linear(6*6*60, 120)\n",
        "    self.fc2 = nn.Linear(120, 84)\n",
        "    self.fc3 = nn.Linear(84,10)\n",
        "\n",
        "    torch.nn.init.kaiming_uniform_(self.conv1.weight)\n",
        "    torch.nn.init.zeros_(self.conv1.bias)\n",
        "    torch.nn.init.kaiming_uniform_(self.conv2.weight)\n",
        "    torch.nn.init.zeros_(self.conv2.bias)\n",
        "\n",
        "\n",
        "  def forward(self, x):\n",
        "    x = F.relu(self.conv1(x))\n",
        "    x = self.pool(x)                             #(reduces to (30,30,6))\n",
        "#### MAX POOLING....                              #reduces to(15,15,6)\n",
        "    x = F.relu(self.conv2(x))\n",
        "    x = self.pool(x)                              # reduces to (13,13,16)\n",
        "#### MAX POOLING....                              # reduces to (6,6,16)\n",
        "    x = x.view(-1, 6*6*60)\n",
        "    x = F.relu(self.fc1(x))\n",
        "    x =  F.relu(self.fc2(x))\n",
        "    x =  self.fc3(x)\n",
        "\n",
        "    return (F.log_softmax(x, dim=1))\n",
        "\n",
        "\n",
        "torch.manual_seed(30)\n",
        "model = CNN_model_2()\n",
        "model\n",
        "\n",
        "\n",
        "criterion = nn.CrossEntropyLoss()\n",
        "optimizer = optim.Adam(model.parameters(), lr = 0.005)\n",
        "\n",
        "def GetAccuarcy(yp, yt):\n",
        "  return(accuracy_score(yt, yp))\n",
        "\n",
        "\n",
        "#### TRAINING....\n",
        "\n",
        "torch.manual_seed(30)\n",
        "\n",
        "#### SAVING ALL THE RESULTS\n",
        "\n",
        "training_loss = []\n",
        "testing_loss = []\n",
        "training_accuracy = []\n",
        "testing_accuracy = []\n",
        "total_test_correct = 0\n",
        "total_test_im = 0\n",
        "epochs = 5\n",
        "\n",
        "for i in range(epochs):\n",
        "\n",
        "  for iter_num, (xtrain, ytrain) in enumerate(train_loader):\n",
        "    iter_num+=1\n",
        "    ypred = model(xtrain)                                        #forward propagation\n",
        "    train_loss = criterion(ypred, ytrain)\n",
        "\n",
        "    predicted = torch.max(ypred.data, 1)[1]\n",
        "    \n",
        "    train_accuracy = GetAccuarcy(predicted, ytrain)*100\n",
        " \n",
        "    optimizer.zero_grad()\n",
        "\n",
        "    train_loss.backward()                                         # Backpropagation\n",
        "\n",
        "    optimizer.step()\n",
        "\n",
        "    if (iter_num%1000 == 0):\n",
        "\n",
        "      print(\"Epoch : {} | Loss: {} | Training accuracy : {}%\".format(i, train_loss, train_accuracy))\n",
        "  train_accuracy = GetAccuarcy(predicted, ytrain)*100\n",
        "  training_accuracy.append(train_accuracy)\n",
        "  training_loss.append(train_loss)\n",
        "\n",
        "#### TESTING....\n",
        "\n",
        "with torch.no_grad():\n",
        "  for iter_num, (xtest, ytest) in enumerate (test_loader):\n",
        "\n",
        "    yval = model(xtest)                                          # testing\n",
        "\n",
        "    predicted = torch.max(yval.data, 1)[1]\n",
        "    total_test_im += len(ytest)\n",
        "    total_test_correct += (predicted == ytest).sum().item()\n",
        "  Test_accuracy = GetAccuarcy(predicted, ytest)*100\n",
        "  testing_accuracy.append(Test_accuracy)\n",
        "\n",
        "test_loss = criterion(yval, ytest)\n",
        "testing_loss.append(test_loss)\n",
        "print(\" ///////////   TESTING ACCURACY AFTER EPOCH: {} IS {}%\\\\\\\\\\\\\\\\\\\\\".format(i, Test_accuracy))\n",
        "\n",
        "\n",
        "plt.figure(figsize = (8,6))\n",
        "plt.plot(training_accuracy, color = 'green', label = \"Train\")\n",
        "plt.title(\"Accuarcy of training data after each batch\")\n",
        "plt.xlabel(\"Epoch number\")\n",
        "plt.ylabel(\"Accuracy (%)\")\n",
        "plt.legend()\n",
        "plt.show()\n",
        "\n",
        "\n",
        "\n",
        "plt.figure(figsize = (8,6))\n",
        "plt.plot(training_loss, color = 'dodgerblue', label = \"Train\")\n",
        "plt.plot(testing_loss, marker = \"^\", color = 'r', label = 'Test')\n",
        "plt.title(\"Training and Testing erros\")\n",
        "plt.xlabel(\"Epoch Number\")\n",
        "plt.ylabel(\"Loss\")\n",
        "plt.legend()\n",
        "plt.show()"
      ],
      "execution_count": null,
      "outputs": [
        {
          "output_type": "stream",
          "text": [
            "Downloading https://www.cs.toronto.edu/~kriz/cifar-10-python.tar.gz to /content/cifar-10-python.tar.gz\n"
          ],
          "name": "stdout"
        },
        {
          "output_type": "display_data",
          "data": {
            "application/vnd.jupyter.widget-view+json": {
              "model_id": "12759104bb504c1d8b407aaca5f79996",
              "version_minor": 0,
              "version_major": 2
            },
            "text/plain": [
              "HBox(children=(FloatProgress(value=1.0, bar_style='info', max=1.0), HTML(value='')))"
            ]
          },
          "metadata": {
            "tags": []
          }
        },
        {
          "output_type": "stream",
          "text": [
            "Extracting /content/cifar-10-python.tar.gz to /content/\n",
            "Files already downloaded and verified\n"
          ],
          "name": "stdout"
        },
        {
          "output_type": "stream",
          "text": [
            "Clipping input data to the valid range for imshow with RGB data ([0..1] for floats or [0..255] for integers).\n",
            "Clipping input data to the valid range for imshow with RGB data ([0..1] for floats or [0..255] for integers).\n"
          ],
          "name": "stderr"
        },
        {
          "output_type": "stream",
          "text": [
            "The shape of first train batch is:  torch.Size([10, 3, 32, 32])\n",
            "The shape of first test batch is:  torch.Size([10])\n",
            "predicted classes are:  ['bird', 'ship', 'horse', 'frog', 'ship', 'car', 'cat', 'horse', 'horse', 'deer']\n",
            "Epoch : 0 | Loss: 1.7311246395111084 | Training accuracy : 30.0%\n",
            "Epoch : 0 | Loss: 1.7868690490722656 | Training accuracy : 20.0%\n",
            "Epoch : 0 | Loss: 1.6014292240142822 | Training accuracy : 40.0%\n",
            "Epoch : 0 | Loss: 1.7131927013397217 | Training accuracy : 20.0%\n",
            "Epoch : 0 | Loss: 1.786329984664917 | Training accuracy : 10.0%\n",
            "Epoch : 1 | Loss: 1.392904281616211 | Training accuracy : 40.0%\n",
            "Epoch : 1 | Loss: 1.3636655807495117 | Training accuracy : 70.0%\n",
            "Epoch : 1 | Loss: 1.1354674100875854 | Training accuracy : 50.0%\n",
            "Epoch : 1 | Loss: 1.2306971549987793 | Training accuracy : 40.0%\n",
            "Epoch : 1 | Loss: 2.221839427947998 | Training accuracy : 30.0%\n",
            "Epoch : 2 | Loss: 1.3582922220230103 | Training accuracy : 40.0%\n",
            "Epoch : 2 | Loss: 1.5246896743774414 | Training accuracy : 70.0%\n",
            "Epoch : 2 | Loss: 1.7994369268417358 | Training accuracy : 50.0%\n",
            "Epoch : 2 | Loss: 1.6387895345687866 | Training accuracy : 30.0%\n",
            "Epoch : 2 | Loss: 1.267181396484375 | Training accuracy : 40.0%\n",
            "Epoch : 3 | Loss: 0.7176402807235718 | Training accuracy : 90.0%\n",
            "Epoch : 3 | Loss: 1.3961560726165771 | Training accuracy : 50.0%\n",
            "Epoch : 3 | Loss: 1.5342419147491455 | Training accuracy : 30.0%\n",
            "Epoch : 3 | Loss: 1.8214209079742432 | Training accuracy : 30.0%\n",
            "Epoch : 3 | Loss: 1.4665924310684204 | Training accuracy : 50.0%\n",
            "Epoch : 4 | Loss: 0.9657503366470337 | Training accuracy : 60.0%\n",
            "Epoch : 4 | Loss: 1.178558111190796 | Training accuracy : 60.0%\n",
            "Epoch : 4 | Loss: 1.4510159492492676 | Training accuracy : 40.0%\n",
            "Epoch : 4 | Loss: 1.561504602432251 | Training accuracy : 50.0%\n",
            "Epoch : 4 | Loss: 1.4000356197357178 | Training accuracy : 70.0%\n",
            " ///////////   TESTING ACCURACY AFTER EPOCH: 4 IS 40.0%\\\\\\\\\\\n"
          ],
          "name": "stdout"
        },
        {
          "output_type": "display_data",
          "data": {
            "image/png": "[encoded data removed]",
            "text/plain": [
              "<Figure size 576x288 with 1 Axes>"
            ]
          },
          "metadata": {
            "tags": [],
            "needs_background": "light"
          }
        },
        {
          "output_type": "display_data",
          "data": {
            "image/png": "[encoded data removed]",
            "text/plain": [
              "<Figure size 720x288 with 1 Axes>"
            ]
          },
          "metadata": {
            "tags": [],
            "needs_background": "light"
          }
        },
        {
          "output_type": "display_data",
          "data": {
            "image/png": "[encoded data removed]",
            "text/plain": [
              "<Figure size 576x432 with 1 Axes>"
            ]
          },
          "metadata": {
            "tags": [],
            "needs_background": "light"
          }
        },
        {
          "output_type": "display_data",
          "data": {
            "image/png": "[encoded data removed]",
            "text/plain": [
              "<Figure size 576x432 with 1 Axes>"
            ]
          },
          "metadata": {
            "tags": [],
            "needs_background": "light"
          }
        }
      ]
    },
    {
      "cell_type": "code",
      "metadata": {
        "id": "GbGtGLLE3Gz3",
        "colab_type": "code",
        "colab": {}
      },
      "source": [
        ""
      ],
      "execution_count": null,
      "outputs": []
    }
  ]
}