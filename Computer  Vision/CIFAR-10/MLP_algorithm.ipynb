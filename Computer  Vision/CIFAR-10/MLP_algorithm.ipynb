{
  "nbformat": 4,
  "nbformat_minor": 0,
  "metadata": {
    "colab": {
      "name": "MLP algorithm.ipynb",
      "provenance": [],
      "collapsed_sections": []
    },
    "kernelspec": {
      "name": "python3",
      "display_name": "Python 3"
    }
  },
  "cells": [
    {
      "cell_type": "code",
      "metadata": {
        "id": "KfsTmh_pN6zL",
        "colab_type": "code",
        "colab": {}
      },
      "source": [
        "import numpy as np\n",
        "from sklearn.metrics import accuracy_score, f1_score"
      ],
      "execution_count": null,
      "outputs": []
    },
    {
      "cell_type": "code",
      "metadata": {
        "id": "hxerrMhcGMah",
        "colab_type": "code",
        "colab": {}
      },
      "source": [
        "def sigmoid(z):\n",
        "  A = 1/(1+np.exp(-z))\n",
        "  return (A)"
      ],
      "execution_count": null,
      "outputs": []
    },
    {
      "cell_type": "code",
      "metadata": {
        "id": "321qiv9IOASc",
        "colab_type": "code",
        "colab": {}
      },
      "source": [
        "def GetIntialWeights(layers):\n",
        "  np.random.seed(50)\n",
        "  weights = {}\n",
        "  for weightNode in range(1, len(layers)):\n",
        "    weights['W'+str(weightNode)] = np.random.randn(layers[weightNode], layers[weightNode-1])\n",
        "    weights['W'+str(weightNode)][:, 0:1] = 0\n",
        "  return (weights)\n"
      ],
      "execution_count": null,
      "outputs": []
    },
    {
      "cell_type": "code",
      "metadata": {
        "id": "Tjvxfn8fcTbw",
        "colab_type": "code",
        "colab": {}
      },
      "source": [
        "def ForwardNetwork(weight, x):\n",
        "  vault = []\n",
        "  Z = np.dot(weight, x)\n",
        "  A = sigmoid(Z)\n",
        "  elements = [weight,x,Z,A]\n",
        "  vault.append(elements) \n",
        "  return (A,vault)"
      ],
      "execution_count": null,
      "outputs": []
    },
    {
      "cell_type": "code",
      "metadata": {
        "id": "fazS3yPmi4fh",
        "colab_type": "code",
        "colab": {}
      },
      "source": [
        "def ForwardCall(x, layers, weight):\n",
        "  a = x\n",
        "  W = weight\n",
        "  fc_vault = {}\n",
        "  for layer in range(1, len(layers)):\n",
        "    A, vault = ForwardNetwork(W['W'+str(layer)],a)\n",
        "    a = A\n",
        "    fc_vault['FC'+str(layer)] = np.asarray(vault)\n",
        "  return (A, fc_vault)\n"
      ],
      "execution_count": null,
      "outputs": []
    },
    {
      "cell_type": "code",
      "metadata": {
        "id": "JvQNOHaJzuUn",
        "colab_type": "code",
        "colab": {}
      },
      "source": [
        "def Get_dLdA(fc_vault, total_layers, Y):\n",
        "\n",
        "  dA  = {}\n",
        "  L = total_layers\n",
        "  A = fc_vault['FC'+str(L-1)][0][3]\n",
        "  DA_L =  - (np.divide(Y, A) - np.divide(1 - Y, 1 - A))\n",
        "  dA['dA'+str(L-1)] = DA_L\n",
        "\n",
        "  for layers in reversed(range(1, L-1)):\n",
        "\n",
        "    # FROM CHAIN RULE FOR DL/DA\n",
        "    old_dA = dA['dA'+str(layers+1)]\n",
        "    A = fc_vault['FC'+str(layers+1)][0][3]\n",
        "    dAdZ = A * (1 - A)\n",
        "    w = fc_vault['FC'+str(layers+1)][0][0]\n",
        "\n",
        "    #CALCULATING DA\n",
        "    DA_L = np.multiply(old_dA, dAdZ)\n",
        "    DA_L = np.dot(w.T, DA_L)\n",
        "    dA['dA'+str(layers)] = DA_L\n",
        "\n",
        "  return (dA)"
      ],
      "execution_count": null,
      "outputs": []
    },
    {
      "cell_type": "code",
      "metadata": {
        "id": "n0k0lV1AbD8a",
        "colab_type": "code",
        "colab": {}
      },
      "source": [
        "def Get_dLdZ(dA, fc_vault, total_layers):\n",
        "\n",
        "  dZ = {}\n",
        "  L = total_layers\n",
        "  for layers in range(1, L):\n",
        "\n",
        "###CALCULATING DL/DZ FROM CHAIN RULE\n",
        "\n",
        "    DA_L = dA['dA'+str(layers)]\n",
        "    A = fc_vault['FC'+str(layers)][0][3]\n",
        "    dAdZ = A * (1- A)\n",
        "    dLdZ = np.multiply(DA_L, dAdZ)\n",
        "\n",
        "    dZ['dZ'+str(layers)] = dLdZ\n",
        "\n",
        "  return (dZ)"
      ],
      "execution_count": null,
      "outputs": []
    },
    {
      "cell_type": "code",
      "metadata": {
        "id": "t62phMKMdPTE",
        "colab_type": "code",
        "colab": {}
      },
      "source": [
        "def Get_UpdatedWeights(dZ, fc_vault, total_layers, lr):\n",
        "\n",
        "  W = {}\n",
        "  L = total_layers\n",
        "  ##INPUT LAYER TO LAYER 1...\n",
        "\n",
        "  dLdZ = dZ['dZ1']\n",
        "  A = fc_vault['FC1'][0][1]    # PREVIOUS A value\n",
        "  dLdW = np.dot(dLdZ, A.T)\n",
        "  w = fc_vault['FC1'][0][0]\n",
        "  W['W1'] =  w - (lr*dLdW)\n",
        "  \n",
        "  ## REST CONNECTED LAYERS...\n",
        "\n",
        "  for layers in range(2, L):\n",
        "\n",
        "    dLdZ = dZ['dZ'+str(layers)]\n",
        "    A = fc_vault['FC'+str(layers-1)][0][3]    # PREVIOUS A value\n",
        "    dLdW = np.dot(dLdZ, A.T)\n",
        "    w = fc_vault['FC'+str(layers)][0][0]\n",
        "  \n",
        "    W['W'+str(layers)] =  w - (lr*dLdW)\n",
        "\n",
        "  return (W)"
      ],
      "execution_count": null,
      "outputs": []
    },
    {
      "cell_type": "code",
      "metadata": {
        "id": "xdzOiB6wldTe",
        "colab_type": "code",
        "colab": {}
      },
      "source": [
        "def MultiLayerPerceptron(layers, X, Y, lr, simulation):\n",
        "  w = []\n",
        "  costs = []\n",
        "  m = X.shape[0]\n",
        "  W = GetIntialWeights(layers)\n",
        "  \n",
        "  for iter in range(simulation):\n",
        "\n",
        "    L =  len(layers)\n",
        "\n",
        "    w.append(W)\n",
        "\n",
        "    A, fc = ForwardCall(x, layers, W)\n",
        "\n",
        "    loss = np.dot(Y.T, np.log(A)) + np.dot((1-Y.T),np.log(1-A))\n",
        "\n",
        "    cost = -np.sum(loss)/m\n",
        "\n",
        "    costs.append(cost)\n",
        "\n",
        "    das = Get_dLdA(fc, L, Y)\n",
        "\n",
        "    dzs = Get_dLdZ(das, fc, L)\n",
        "\n",
        "    W = Get_UpdatedWeights(dzs, fc, L, lr)\n",
        "\n",
        "  return (W, costs, w)"
      ],
      "execution_count": null,
      "outputs": []
    },
    {
      "cell_type": "code",
      "metadata": {
        "id": "VBZ6L3YenPZo",
        "colab_type": "code",
        "colab": {}
      },
      "source": [
        "def decision_fn(A):                                                            \n",
        "  dec = np.where(A > 0.5, 1, 0)\n",
        "  return(dec)"
      ],
      "execution_count": null,
      "outputs": []
    },
    {
      "cell_type": "code",
      "metadata": {
        "id": "DVh0hH0OmMh7",
        "colab_type": "code",
        "colab": {}
      },
      "source": [
        "def predict(W, Xtest, Ytest, layers):\n",
        "  L = len(layers)\n",
        "  ypred, vault = ForwardCall(Xtest, layers, W)\n",
        "  ypred = decision_fn(ypred)\n",
        "  return (ypred)"
      ],
      "execution_count": null,
      "outputs": []
    },
    {
      "cell_type": "code",
      "metadata": {
        "id": "B4YW5p5IoCUo",
        "colab_type": "code",
        "colab": {}
      },
      "source": [
        "layers = [8,50,30,20,15,8,6,5,4,3,1]\n",
        "x = np.random.randn(8, 50)\n",
        "lr = 0.0001\n",
        "simulation = 1000\n",
        "para, costs, W = MultiLayerPerceptron(layers, x, Y, lr, simulation)"
      ],
      "execution_count": null,
      "outputs": []
    },
    {
      "cell_type": "code",
      "metadata": {
        "id": "0kbrPJADosuy",
        "colab_type": "code",
        "colab": {
          "base_uri": "https://localhost:8080/",
          "height": 34
        },
        "outputId": "6648649b-20e7-4c77-9994-19a207d65fd2"
      },
      "source": [
        "Y = np.array([1,0,1,1,0,0,1,1,0,0,1,1,1,1,0,0,1,1,0,0,1,1,0,1,1,1,1,0,0,0,0,0,0,0,0,0,0,1,1,1,1,0,0,1,0,1,0,1,0,1]).reshape(-1,50)\n",
        "Y.shape"
      ],
      "execution_count": null,
      "outputs": [
        {
          "output_type": "execute_result",
          "data": {
            "text/plain": [
              "(1, 50)"
            ]
          },
          "metadata": {
            "tags": []
          },
          "execution_count": 78
        }
      ]
    },
    {
      "cell_type": "code",
      "metadata": {
        "id": "Y7EY3GM-nj5d",
        "colab_type": "code",
        "colab": {
          "base_uri": "https://localhost:8080/",
          "height": 282
        },
        "outputId": "c9ef08a1-4e62-4e7b-faba-631c9d277c90"
      },
      "source": [
        "import matplotlib.pyplot as plt\n",
        "\n",
        "plt.plot(costs)\n",
        "\n"
      ],
      "execution_count": null,
      "outputs": [
        {
          "output_type": "execute_result",
          "data": {
            "text/plain": [
              "[<matplotlib.lines.Line2D at 0x7f247d6b6550>]"
            ]
          },
          "metadata": {
            "tags": []
          },
          "execution_count": 61
        },
        {
          "output_type": "display_data",
          "data": {
            "image/png": "[encoded data removed]",
            "text/plain": [
              "<Figure size 432x288 with 1 Axes>"
            ]
          },
          "metadata": {
            "tags": [],
            "needs_background": "light"
          }
        }
      ]
    },
    {
      "cell_type": "code",
      "metadata": {
        "id": "2JtGPJ2qWQIO",
        "colab_type": "code",
        "colab": {}
      },
      "source": [
        "xtest = x\n",
        "ytest = Y\n",
        "p= predict(para, xtest, ytest, layers)"
      ],
      "execution_count": null,
      "outputs": []
    },
    {
      "cell_type": "code",
      "metadata": {
        "id": "8F-WseExgZJN",
        "colab_type": "code",
        "colab": {
          "base_uri": "https://localhost:8080/",
          "height": 70
        },
        "outputId": "8f7f2f46-6e21-489f-b518-37549a3152be"
      },
      "source": [
        "p"
      ],
      "execution_count": null,
      "outputs": [
        {
          "output_type": "execute_result",
          "data": {
            "text/plain": [
              "array([[0, 0, 0, 0, 0, 0, 0, 0, 0, 0, 0, 0, 0, 0, 0, 0, 0, 0, 0, 0, 0, 0,\n",
              "        0, 0, 0, 0, 0, 0, 0, 0, 0, 0, 0, 0, 0, 0, 0, 0, 0, 0, 0, 0, 0, 0,\n",
              "        0, 0, 0, 0, 0, 0]])"
            ]
          },
          "metadata": {
            "tags": []
          },
          "execution_count": 85
        }
      ]
    },
    {
      "cell_type": "code",
      "metadata": {
        "id": "XrTQWXnWp1w6",
        "colab_type": "code",
        "colab": {}
      },
      "source": [
        ""
      ],
      "execution_count": null,
      "outputs": []
    }
  ]
}