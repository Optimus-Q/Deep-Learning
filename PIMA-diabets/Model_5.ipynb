{
  "nbformat": 4,
  "nbformat_minor": 0,
  "metadata": {
    "colab": {
      "name": "Model-5.ipynb",
      "provenance": [],
      "collapsed_sections": []
    },
    "kernelspec": {
      "name": "python3",
      "display_name": "Python 3"
    },
    "accelerator": "GPU"
  },
  "cells": [
    {
      "cell_type": "code",
      "metadata": {
        "id": "1jg50-4ZUHNW",
        "colab_type": "code",
        "colab": {}
      },
      "source": [
        "import pandas as pd\n",
        "import numpy as np\n",
        "import matplotlib.pyplot as plt\n",
        "import matplotlib.patches as mpatch\n",
        "from sklearn.preprocessing import MinMaxScaler\n",
        "from sklearn.metrics import accuracy_score, f1_score\n",
        "from sklearn.metrics import confusion_matrix"
      ],
      "execution_count": 1,
      "outputs": []
    },
    {
      "cell_type": "code",
      "metadata": {
        "id": "Knr3ULJiabyF",
        "colab_type": "code",
        "colab": {}
      },
      "source": [
        "data = pd.read_csv(\"/content/diabetes.csv\")\n",
        "columns = ['Glucose', 'BloodPressure', 'SkinThickness','Insulin', 'BMI', 'DiabetesPedigreeFunction', 'Age']\n",
        "data[columns] = data[columns].replace(0, np.NaN)\n",
        "data = data.dropna()\n",
        "\n",
        "#------------------------------------------------------------------------------     #Data dividing for tran, valid and test\n",
        "ntrain = int(len(data)*0.70)\n",
        "Xtrain = data.iloc[:ntrain, 0:8].values\n",
        "Xtest = data.iloc[ntrain:, 0:8].values\n",
        "Ytrain = data.iloc[:ntrain, 8:9].values\n",
        "Ytest = data.iloc[ntrain:, 8:9].values\n",
        "#-------------------------------------------------------------------------------      # standardized data\n",
        "scaler_xtrain = MinMaxScaler()\n",
        "xtrain_sc = scaler_xtrain.fit_transform(Xtrain)\n",
        "\n",
        "scaler_xtest = MinMaxScaler()\n",
        "xtest_sc = scaler_xtest.fit_transform(Xtest)\n",
        "#------------------------------------------------------------------------------       # Adding ones column in the data\n",
        "ones_tn = np.ones(shape = (xtrain_sc.shape[0],1))\n",
        "xtrain_sc = np.hstack([ones_tn, xtrain_sc])\n",
        "\n",
        "ones_ts = np.ones(shape = (xtest_sc.shape[0],1))\n",
        "xtest_sc = np.hstack([ones_ts, xtest_sc])\n",
        "\n",
        "train = np.append(Ytrain, xtrain_sc, axis = 1)\n",
        "\n",
        "#------------------------------------------------------------------------------"
      ],
      "execution_count": 2,
      "outputs": []
    },
    {
      "cell_type": "code",
      "metadata": {
        "id": "R4SGFN7OakdD",
        "colab_type": "code",
        "colab": {}
      },
      "source": [
        "def intializer(layers):\n",
        "  np.random.seed(3)\n",
        "  W = np.random.randn(layers[0], layers[1])  \n",
        "  return (W)\n",
        "\n",
        "def sigmoid(z):\n",
        "  sig = 1.0/(1.0+np.exp(-z))\n",
        "  return (sig)\n",
        "\n",
        "def decision_fn(A):                                                            \n",
        "  dec = np.where(A > 0.5, 1, 0)\n",
        "  return(dec)\n",
        "\n",
        "def predict(X, W):\n",
        "  Z = np.dot(X, W)\n",
        "  A = sigmoid(Z)\n",
        "  A = decision_fn(A)\n",
        "  return (A)\n",
        "\n",
        "def minimumcost(vault):\n",
        "  ix = vault[4].index(min(vault[4]))                         \n",
        "  W = vault[0][ix]\n",
        "  W = W.T\n",
        "  return (W)\n",
        "\n",
        "\n",
        "def SPLPrediction(X,Y,W):\n",
        "  pred = predict(X, W)\n",
        "  accuracy = accuracy_score(Y, pred)*100\n",
        "  f1 = f1_score(Y, pred)*100\n",
        "  misclassification = 100-accuracy\n",
        "  result = [accuracy, f1, misclassification]\n",
        "  return (result)"
      ],
      "execution_count": 3,
      "outputs": []
    },
    {
      "cell_type": "code",
      "metadata": {
        "id": "GuFs6AKxaolL",
        "colab_type": "code",
        "colab": {}
      },
      "source": [
        "def indicesShuffle(number):\n",
        "  indexlist = []\n",
        "  i = 0\n",
        "  while (i< number):\n",
        "    n = np.random.randint(0, number)\n",
        "    if n in indexlist:\n",
        "      i = i\n",
        "    else:\n",
        "      indexlist.append(n)\n",
        "      i = i + 1\n",
        "  return (indexlist)\n",
        "\n",
        "def shuffler(X):\n",
        "  number = X.shape[0]\n",
        "  indexShuffle = indicesShuffle(number)\n",
        "  shuffleArray = np.empty((X.shape))\n",
        "  for stack,ix in zip(indexShuffle, range(number)):\n",
        "    shuffleArray[ix] = X[stack]\n",
        "  return (shuffleArray, indexShuffle)"
      ],
      "execution_count": 4,
      "outputs": []
    },
    {
      "cell_type": "code",
      "metadata": {
        "id": "rmL9K40zay91",
        "colab_type": "code",
        "colab": {}
      },
      "source": [
        "def SPLGDCV(layers, lr, epochs, shuffleTime):\n",
        "  costs = [] \n",
        "  weights = []\n",
        "  zpred = []\n",
        "  Apred = []\n",
        "  errpred = []\n",
        "  grads = []\n",
        "  results = []\n",
        "  shuffdict = {}\n",
        "  shuffle = 1\n",
        "  W = intializer(layers)\n",
        "  while (shuffle <= shuffleTime):\n",
        "    xtrain, indexes = shuffler(train)\n",
        "    shuffdict['shuffle '+str(shuffle)] = xtrain\n",
        "    xdata = xtrain[:, 1:10]\n",
        "    ydata = xtrain[:, 0:1]\n",
        "\n",
        "    for epoch in range(epochs):\n",
        "      Z = np.dot(xdata, W)  \n",
        "      A = sigmoid(Z)  \n",
        "      error = A - ydata\n",
        "      m = A.shape[0]\n",
        "      loss = -(np.dot(ydata.T, np.log(A)) + np.dot((1-ydata.T),np.log(1-A)))\n",
        "      cost = (np.sum(loss)/m)\n",
        "      grad =np.dot(xdata.T, error)\n",
        "      costs.append(cost)\n",
        "      weights.append(W.T)\n",
        "      zpred.append(Z.T)\n",
        "      Apred.append(A.T)\n",
        "      errpred.append(error.T)\n",
        "      grads.append(grad.T)\n",
        "      W = W - (lr/m)*(grad)\n",
        "    Tvault = [weights, zpred, Apred, errpred, costs, grads] \n",
        "    TWmin = minimumcost(Tvault)\n",
        "    result = SPLPrediction(xtest_sc, Ytest, TWmin)\n",
        "    results.append(result)\n",
        "    shuffle+=1\n",
        "  return (results)"
      ],
      "execution_count": 5,
      "outputs": []
    },
    {
      "cell_type": "markdown",
      "metadata": {
        "id": "rVLRq4AWVHz0",
        "colab_type": "text"
      },
      "source": [
        "TEST-1"
      ]
    },
    {
      "cell_type": "code",
      "metadata": {
        "id": "MO-TthZfRm0w",
        "colab_type": "code",
        "colab": {
          "base_uri": "https://localhost:8080/",
          "height": 68
        },
        "outputId": "f2b697d4-29d2-4122-aaed-0699c193df1f"
      },
      "source": [
        "layers1 = [xtrain_sc.shape[1], 1]\n",
        "lr1  = 0.001\n",
        "epochs1 = 8000\n",
        "shuffleTime1 = 100\n",
        "results1 = SPLGDCV(layers1, lr1, epochs1, shuffleTime1)\n",
        "\n",
        "avg_results1 = np.asarray(results1)\n",
        "accuracy1 = np.mean(avg_results1[:, 0:1])\n",
        "f1_1 = np.mean(avg_results1[:, 1:2])\n",
        "misclf1 = np.mean(avg_results1[:, 2:3])\n",
        "\n",
        "print(\"The average accuracy of the model is : \", accuracy1)\n",
        "print(\"The average F1 score of the model is : \", f1_1)\n",
        "print(\"The average misclassification rate of the model is : \", misclf1)"
      ],
      "execution_count": 6,
      "outputs": [
        {
          "output_type": "stream",
          "text": [
            "The average accuracy of the model is :  79.07627118644068\n",
            "The average F1 score of the model is :  68.08903968111534\n",
            "The average misclassification rate of the model is :  20.92372881355933\n"
          ],
          "name": "stdout"
        }
      ]
    },
    {
      "cell_type": "markdown",
      "metadata": {
        "id": "y0e6gQTJVbDM",
        "colab_type": "text"
      },
      "source": [
        "TEST-2"
      ]
    },
    {
      "cell_type": "code",
      "metadata": {
        "id": "n7tUHKsZUlf9",
        "colab_type": "code",
        "colab": {
          "base_uri": "https://localhost:8080/",
          "height": 68
        },
        "outputId": "ad042124-ed1d-4fb6-9c4c-8fe23e873dd8"
      },
      "source": [
        "layers2 = [xtrain_sc.shape[1], 1]\n",
        "lr2  = 0.001\n",
        "iterations2 = 5000\n",
        "shuffleTime2 = 50\n",
        "results2 = SPLGDCV(lr = lr2,epochs = iterations2, layers = layers2, shuffleTime = shuffleTime2)\n",
        "\n",
        "avg_results2 = np.asarray(results2)\n",
        "accuracy2 = np.mean(avg_results2[:, 0:1])\n",
        "f1_2 = np.mean(avg_results2[:, 1:2])\n",
        "misclf2 = np.mean(avg_results2[:, 2:3])\n",
        "\n",
        "print(\"The average accuracy of the model is : \", accuracy2)\n",
        "print(\"The average F1 score of the model is : \", f1_2)\n",
        "print(\"The average misclassification rate of the model is : \", misclf2)"
      ],
      "execution_count": 7,
      "outputs": [
        {
          "output_type": "stream",
          "text": [
            "The average accuracy of the model is :  77.6779661016949\n",
            "The average F1 score of the model is :  58.997672733032665\n",
            "The average misclassification rate of the model is :  22.322033898305087\n"
          ],
          "name": "stdout"
        }
      ]
    },
    {
      "cell_type": "markdown",
      "metadata": {
        "id": "aZ0OqBMFWmTz",
        "colab_type": "text"
      },
      "source": [
        "TEST-3"
      ]
    },
    {
      "cell_type": "code",
      "metadata": {
        "id": "Af_0W4pKWoNK",
        "colab_type": "code",
        "colab": {
          "base_uri": "https://localhost:8080/",
          "height": 68
        },
        "outputId": "2273b323-cb49-415b-f55d-32a646aeacf0"
      },
      "source": [
        "layers3 = [xtrain_sc.shape[1], 1]\n",
        "lr3  = 0.0008\n",
        "iterations3 = 8000\n",
        "shuffleTime3 = 50\n",
        "results3 = SPLGDCV(lr = lr3,epochs = iterations3, layers = layers3, shuffleTime = shuffleTime3)\n",
        "\n",
        "avg_results3 = np.asarray(results3)\n",
        "accuracy3 = np.mean(avg_results3[:, 0:1])\n",
        "f1_3 = np.mean(avg_results3[:, 1:2])\n",
        "misclf3 = np.mean(avg_results3[:, 2:3])\n",
        "\n",
        "print(\"The average accuracy of the model is : \", accuracy3)\n",
        "print(\"The average F1 score of the model is : \", f1_3)\n",
        "print(\"The average misclassification rate of the model is : \", misclf3)\n"
      ],
      "execution_count": 8,
      "outputs": [
        {
          "output_type": "stream",
          "text": [
            "The average accuracy of the model is :  78.35593220338983\n",
            "The average F1 score of the model is :  62.03569538387135\n",
            "The average misclassification rate of the model is :  21.644067796610166\n"
          ],
          "name": "stdout"
        }
      ]
    },
    {
      "cell_type": "code",
      "metadata": {
        "id": "cSK1E86mclCa",
        "colab_type": "code",
        "colab": {
          "base_uri": "https://localhost:8080/",
          "height": 441
        },
        "outputId": "39e8b8d3-c47e-44cd-9095-d727def3ac92"
      },
      "source": [
        "print(\"Accuracy of TEST-1 = \",accuracy1)\n",
        "print(\"Accuracy of TEST-2 = \", accuracy2)\n",
        "print(\"Accuracy of TEST-3 = \", accuracy3)\n",
        "\n",
        "plt.figure(figsize = (5,6))\n",
        "plt.bar(x = ['TEST-1', 'TEST-2', 'TEST-3'], height = [accuracy1, accuracy2, accuracy3], width = 0.4, color = 'tan')\n",
        "plt.title(\"Accuracy between different tests\")\n",
        "plt.ylabel(\"Accuracy(%)\")\n",
        "plt.show()"
      ],
      "execution_count": 9,
      "outputs": [
        {
          "output_type": "stream",
          "text": [
            "Accuracy of TEST-1 =  79.07627118644068\n",
            "Accuracy of TEST-2 =  77.6779661016949\n",
            "Accuracy of TEST-3 =  78.35593220338983\n"
          ],
          "name": "stdout"
        },
        {
          "output_type": "display_data",
          "data": {
            "image/png": "[encoded data removed]",
            "text/plain": [
              "<Figure size 360x432 with 1 Axes>"
            ]
          },
          "metadata": {
            "tags": [],
            "needs_background": "light"
          }
        }
      ]
    },
    {
      "cell_type": "code",
      "metadata": {
        "id": "MQzS1E299Lri",
        "colab_type": "code",
        "colab": {}
      },
      "source": [
        ""
      ],
      "execution_count": null,
      "outputs": []
    }
  ]
}