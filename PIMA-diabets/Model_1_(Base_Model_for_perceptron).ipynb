{
  "nbformat": 4,
  "nbformat_minor": 0,
  "metadata": {
    "colab": {
      "name": "Model-1 (Base Model for perceptron).ipynb",
      "provenance": [],
      "collapsed_sections": []
    },
    "kernelspec": {
      "name": "python3",
      "display_name": "Python 3"
    }
  },
  "cells": [
    {
      "cell_type": "code",
      "metadata": {
        "id": "ekkicXilFZyM",
        "colab_type": "code",
        "colab": {}
      },
      "source": [
        "# import libraries....\n",
        "\n",
        "import pandas as pd\n",
        "import numpy as np\n",
        "import matplotlib.pyplot as plt\n",
        "import matplotlib.patches as mpatch\n",
        "from sklearn.preprocessing import MinMaxScaler\n",
        "from sklearn.metrics import accuracy_score, f1_score\n",
        "from sklearn.metrics import confusion_matrix"
      ],
      "execution_count": null,
      "outputs": []
    },
    {
      "cell_type": "code",
      "metadata": {
        "id": "r3xI_rerGYnc",
        "colab_type": "code",
        "colab": {}
      },
      "source": [
        "# load datsets and preprocess it....\n",
        "\n",
        "data = pd.read_csv(\"/content/diabetes.csv\")\n",
        "columns = ['Glucose', 'BloodPressure', 'SkinThickness','Insulin', 'BMI', 'DiabetesPedigreeFunction', 'Age']\n",
        "data[columns] = data[columns].replace(0, np.NaN)\n",
        "data = data.dropna()\n",
        "data['Outcome'] = data['Outcome'].apply(lambda x: -1 if (x == 1) else 1)\n",
        "\n",
        "#------------------------------------------------------------------------------     #Data dividing for tran, valid and test\n",
        "ntrain = int(len(data)*0.85)\n",
        "nvalid = int(len(data)*0.95)\n",
        "#------------------------------------------------------------------------------     # train, validation and test data\n",
        "Xtrain = data.iloc[:ntrain, 0:8].values\n",
        "Xvalid = data.iloc[ntrain:nvalid, 0:8].values\n",
        "Xtest = data.iloc[nvalid:, 0:8].values\n",
        "\n",
        "Ytrain = data.iloc[:ntrain, 8:9].values\n",
        "Yvalid = data.iloc[ntrain:nvalid, 8:9].values\n",
        "Ytest = data.iloc[nvalid:, 8:9].values\n",
        "#-------------------------------------------------------------------------------      # standardized data\n",
        "scaler_xtrain = MinMaxScaler()\n",
        "xtrain_sc = scaler_xtrain.fit_transform(Xtrain)\n",
        "\n",
        "scaler_xvalid = MinMaxScaler()\n",
        "xvalid_sc = scaler_xvalid.fit_transform(Xvalid)\n",
        "\n",
        "scaler_xtest = MinMaxScaler()\n",
        "xtest_sc = scaler_xtest.fit_transform(Xtest)\n",
        "#------------------------------------------------------------------------------       # Adding ones column in the data\n",
        "ones_tn = np.ones(shape = (xtrain_sc.shape[0],1))\n",
        "xtrain_sc = np.hstack([ones_tn, xtrain_sc])\n",
        "\n",
        "ones_va = np.ones(shape = (xvalid_sc.shape[0],1))\n",
        "xvalid_sc =  np.hstack([ones_va, xvalid_sc])\n",
        "\n",
        "ones_ts = np.ones(shape = (xtest_sc.shape[0],1))\n",
        "xtest_sc = np.hstack([ones_ts, xtest_sc])\n"
      ],
      "execution_count": null,
      "outputs": []
    },
    {
      "cell_type": "code",
      "metadata": {
        "id": "qRQEN8WXo28P",
        "colab_type": "code",
        "colab": {}
      },
      "source": [
        "def intializer(layers):                         #initializing parameters\n",
        "  np.random.seed(3)\n",
        "  W = np.random.randn(layers[0], layers[1])*0.1\n",
        "  return (W)\n",
        "\n",
        "def decision_fn(z):                                  # decision function                                   \n",
        "  dec = np.where(z > 0, -1, 1)\n",
        "  return(dec)\n",
        "\n",
        "def weight_upadte(W, lr, grads, labd):\n",
        "  Wnew = W + lr*grads - (lr*labd*W)        #here gradient will be negative, so keeping negative as it is.\n",
        "  return (Wnew)\n",
        "\n",
        "def predict(X, W):       # predict function\n",
        "  Z = np.dot(X, W)\n",
        "  A = decision_fn(Z)\n",
        "  return (A)\n",
        "\n",
        "def minimumcost(vault):         # finding minimum cost function and corresponding weight\n",
        "  ix = vault[4].index(min(vault[4]))                         \n",
        "  W = vault[0][ix]\n",
        "  return (W)\n",
        "\n",
        "\n",
        "def SPLPrediction(X,Y,W):       # predicting and dispalying the metric results\n",
        "  pred = predict(X, W)\n",
        "  accuracy = accuracy_score(Y, pred)*100\n",
        "  f1 = f1_score(Y, pred)*100\n",
        "  misclassification = 100-accuracy\n",
        "  result = [accuracy, f1, misclassification]\n",
        "  return (result)\n"
      ],
      "execution_count": null,
      "outputs": []
    },
    {
      "cell_type": "code",
      "metadata": {
        "id": "zb5C6NBxpdQL",
        "colab_type": "code",
        "colab": {}
      },
      "source": [
        "def SPL(lr, labd, layers, X, Y, simulation, valid = False, W = 0):                # core algorithm for this model\n",
        "\n",
        "  costs = []                                                                       # store all values\n",
        "  zpred = []\n",
        "  Apred = []\n",
        "  errpred = []\n",
        "  weights = []\n",
        "  iters = []\n",
        "  m = X.shape[0]\n",
        "  if (valid != True):\n",
        "    W = intializer(layers)\n",
        "  for iter in range(simulation):\n",
        "    Z = np.dot(X, W)\n",
        "    A = decision_fn(Z)\n",
        "    E = np.multiply(Y,A)\n",
        "    E =  np.maximum(0, -E)                          # loss fn\n",
        "    Loss = np.sum(E)                                       \n",
        "    cost = Loss/m + (labd/(2*m)*np.dot(W.T, W))     # cost fn \n",
        "    costs.append(cost)\n",
        "    errpred.append(E)\n",
        "    Apred.append(A)\n",
        "    zpred.append(Z)                                        \n",
        "    grads = np.dot(X.T,A)\n",
        "    weights.append(W)\n",
        "    W = weight_upadte(W, lr, grads, labd)\n",
        "  vault = [weights, zpred, Apred, errpred, costs]\n",
        "  return (vault)\n"
      ],
      "execution_count": null,
      "outputs": []
    },
    {
      "cell_type": "code",
      "metadata": {
        "id": "Hk9mrRuz04s8",
        "colab_type": "code",
        "colab": {
          "base_uri": "https://localhost:8080/",
          "height": 424
        },
        "outputId": "15a0eeac-c24d-4e42-d262-7e2afbd624ed"
      },
      "source": [
        "############################################### TRAINING PHASE ################################################\n",
        "#use 60-90-10 data  split(train, validation -test)\n",
        "lrT1 = 0.001\n",
        "labdT1 = 0                                      # if you want do L2 regualrization, type > 0, otherwise it will be gradient descent without L2.\n",
        "layersT1 = [xtrain_sc.shape[1], 1]\n",
        "simulationT1 = 10000\n",
        "Trainvault1 = SPL(lr = lrT1, labd = labdT1, layers =layersT1, X = xtrain_sc, Y = Ytrain, simulation=simulationT1, valid = False, W = 0)\n",
        "\n",
        "\n",
        "################################################# VALIDATION PHASE  #########################################\n",
        "\n",
        "TrainWmin1 = minimumcost(Trainvault1)\n",
        "lrV1 = 0.01\n",
        "labdV1 = 0.0001                             \n",
        "layersV1 = [xvalid_sc.shape[1], 1]\n",
        "simulationV1 = 10000\n",
        "Validvault1 = SPL(lr = lrV1, labd = labdV1, layers =layersV1, X = xvalid_sc, Y = Yvalid, simulation=simulationV1, valid = True, W = TrainWmin1)\n",
        "\n",
        "##################################################  TESTING PHASE   ##############################################\n",
        "\n",
        "ValidWmin1 = minimumcost(Validvault1)\n",
        "testpred1 = SPLPrediction(xtest_sc, Ytest, ValidWmin1)\n",
        "trainpred1 = SPLPrediction(xtrain_sc, Ytrain, TrainWmin1)\n",
        "print(\"The accuracy of the model at minimum cost value is: \", testpred1[0])\n",
        "print(\"The accuracy of the model at minimum cost value is: \", trainpred1[0])\n",
        "\n",
        "plt.figure(figsize = (5,6))\n",
        "plt.bar(x = ['Test Accuracy', 'Train Accuracy'], height = [testpred1[0], trainpred1[0]], width = 0.4, color = 'tan')\n",
        "plt.axhline(y = testpred1[0], color = 'r')\n",
        "plt.title(\"Accuracy between train and test data\")\n",
        "plt.ylabel(\"Accuracy(%)\")\n",
        "plt.show()"
      ],
      "execution_count": null,
      "outputs": [
        {
          "output_type": "stream",
          "text": [
            "The accuracy of the model at minimum cost value is:  65.0\n",
            "The accuracy of the model at minimum cost value is:  63.829787234042556\n"
          ],
          "name": "stdout"
        },
        {
          "output_type": "display_data",
          "data": {
            "image/png": "[encoded data removed]",
            "text/plain": [
              "<Figure size 360x432 with 1 Axes>"
            ]
          },
          "metadata": {
            "tags": [],
            "needs_background": "light"
          }
        }
      ]
    },
    {
      "cell_type": "markdown",
      "metadata": {
        "id": "qiimL-160NjJ",
        "colab_type": "text"
      },
      "source": [
        "TEST-2"
      ]
    },
    {
      "cell_type": "code",
      "metadata": {
        "id": "WbO4pFOavFU1",
        "colab_type": "code",
        "colab": {
          "base_uri": "https://localhost:8080/",
          "height": 424
        },
        "outputId": "f6faf606-f6a9-4ca9-b363-a7265d865b1d"
      },
      "source": [
        "############################################### TRAINING PHASE ################################################\n",
        "#use 70-95-5 data  split(train, validation -test)\n",
        "lrT2 = 0.1\n",
        "labdT2 = 0                                      # if you want do L2 regualrization, type > 0, otherwise it will be gradient descent without L2.\n",
        "layersT2 = [xtrain_sc.shape[1], 1]\n",
        "simulationT2 = 10000\n",
        "Trainvault2 = SPL(lr = lrT2, labd = labdT2, layers =layersT2, X = xtrain_sc, Y = Ytrain, simulation=simulationT2, valid = False, W = 0)\n",
        "\n",
        "\n",
        "################################################# VALIDATION PHASE  #########################################\n",
        "\n",
        "TrainWmin2 = minimumcost(Trainvault2)\n",
        "lrV2 = 0.05\n",
        "labdV2 = 0.00005                             \n",
        "layersV2 = [xvalid_sc.shape[1], 1]\n",
        "simulationV2 = 10000\n",
        "Validvault2 = SPL(lr = lrV2, labd = labdV2, layers =layersV2, X = xvalid_sc, Y = Yvalid, simulation=simulationV2, valid = True, W = TrainWmin2)\n",
        "##################################################  TESTING PHASE   ##############################################\n",
        "\n",
        "ValidWmin2 = minimumcost(Validvault2)\n",
        "testpred2 = SPLPrediction(xtest_sc, Ytest, ValidWmin2)\n",
        "trainpred2 = SPLPrediction(xtrain_sc, Ytrain, TrainWmin2)\n",
        "print(\"The accuracy of the testing data: \", testpred2[0])\n",
        "print(\"The accuracy of the training data: \", trainpred2[0])\n",
        "\n",
        "plt.figure(figsize = (5,6))\n",
        "plt.bar(x = ['Test Accuracy', 'Train Accuracy'], height = [testpred2[0], trainpred2[0]], width = 0.4, color = 'tan')\n",
        "plt.axhline(y = testpred2[0], color = 'r')\n",
        "plt.title(\"Accuracy between train and test data\")\n",
        "plt.ylabel(\"Accuracy(%)\")\n",
        "plt.show()"
      ],
      "execution_count": null,
      "outputs": [
        {
          "output_type": "stream",
          "text": [
            "The accuracy of the testing data:  70.0\n",
            "The accuracy of the training data:  66.05839416058394\n"
          ],
          "name": "stdout"
        },
        {
          "output_type": "display_data",
          "data": {
            "image/png": "[encoded data removed]",
            "text/plain": [
              "<Figure size 360x432 with 1 Axes>"
            ]
          },
          "metadata": {
            "tags": [],
            "needs_background": "light"
          }
        }
      ]
    },
    {
      "cell_type": "markdown",
      "metadata": {
        "id": "P_zpBdT00A76",
        "colab_type": "text"
      },
      "source": [
        "TEST-3"
      ]
    },
    {
      "cell_type": "code",
      "metadata": {
        "id": "C07BbL_SvGiP",
        "colab_type": "code",
        "colab": {
          "base_uri": "https://localhost:8080/",
          "height": 424
        },
        "outputId": "79c8f9c3-cec8-4009-c38c-bfa5d2430bab"
      },
      "source": [
        "\n",
        "############################################## TRAINING PHASE ################################################\n",
        "#use 85-10-5 data  split(train, validation -test)\n",
        "lrT3 = 0.001\n",
        "labdT3 = 0                                      # if you want do L2 regualrization, type > 0, otherwise it will be gradient descent without L2.\n",
        "layersT3 = [xtrain_sc.shape[1], 1]\n",
        "simulationT3 = 10000\n",
        "Trainvault3 = SPL(lr = lrT3, labd = labdT3, layers =layersT3, X = xtrain_sc, Y = Ytrain, simulation=simulationT3, valid = False, W = 0)\n",
        "\n",
        "\n",
        "################################################# VALIDATION PHASE  #########################################\n",
        "\n",
        "TrainWmin3 = minimumcost(Trainvault3)\n",
        "lrV3 = 0.18\n",
        "labdV3 = 0.0005                             \n",
        "layersV3 = [xvalid_sc.shape[1], 1]\n",
        "simulationV3 = 5000\n",
        "Validvault3 = SPL(lr = lrV3, labd = labdV3, layers =layersV3, X = xvalid_sc, Y = Yvalid, simulation=simulationV3, valid = True, W = TrainWmin3)\n",
        "\n",
        "##################################################  TESTING PHASE   ##############################################\n",
        "\n",
        "ValidWmin3 = minimumcost(Validvault3)\n",
        "testpred3 = SPLPrediction(xtest_sc, Ytest, ValidWmin3)\n",
        "trainpred3 = SPLPrediction(xtrain_sc, Ytrain, TrainWmin3)\n",
        "print(\"The accuracy of the model at minimum cost value is: \", testpred3[0])\n",
        "print(\"The accuracy of the model at minimum cost value is: \", trainpred3[0])\n",
        "\n",
        "plt.figure(figsize = (5,6))\n",
        "plt.bar(x = ['Test Accuracy', 'Train Accuracy'], height = [testpred3[0], trainpred3[0]], width = 0.4, color = 'tan')\n",
        "plt.axhline(y = testpred3[0], color = 'r')\n",
        "plt.title(\"Accuracy between train and test data\")\n",
        "plt.ylabel(\"Accuracy(%)\")\n",
        "plt.show()"
      ],
      "execution_count": null,
      "outputs": [
        {
          "output_type": "stream",
          "text": [
            "The accuracy of the model at minimum cost value is:  70.0\n",
            "The accuracy of the model at minimum cost value is:  66.36636636636636\n"
          ],
          "name": "stdout"
        },
        {
          "output_type": "display_data",
          "data": {
            "image/png": "[encoded data removed]",
            "text/plain": [
              "<Figure size 360x432 with 1 Axes>"
            ]
          },
          "metadata": {
            "tags": [],
            "needs_background": "light"
          }
        }
      ]
    },
    {
      "cell_type": "code",
      "metadata": {
        "id": "VYkBars7pUHf",
        "colab_type": "code",
        "colab": {
          "base_uri": "https://localhost:8080/",
          "height": 34
        },
        "outputId": "8bb3c505-d078-4770-a6fb-f96b9f14d1a7"
      },
      "source": [
        "testpred3"
      ],
      "execution_count": null,
      "outputs": [
        {
          "output_type": "execute_result",
          "data": {
            "text/plain": [
              "[70.0, 82.35294117647058, 30.0]"
            ]
          },
          "metadata": {
            "tags": []
          },
          "execution_count": 14
        }
      ]
    },
    {
      "cell_type": "code",
      "metadata": {
        "id": "wRBMr9sEVOjY",
        "colab_type": "code",
        "colab": {
          "base_uri": "https://localhost:8080/",
          "height": 34
        },
        "outputId": "63edfcd8-8ee4-4fe4-8628-f93c5a911166"
      },
      "source": [
        "testpred1"
      ],
      "execution_count": null,
      "outputs": [
        {
          "output_type": "execute_result",
          "data": {
            "text/plain": [
              "[65.0, 78.7878787878788, 35.0]"
            ]
          },
          "metadata": {
            "tags": []
          },
          "execution_count": 8
        }
      ]
    },
    {
      "cell_type": "code",
      "metadata": {
        "id": "5bbcEJMJKbeR",
        "colab_type": "code",
        "colab": {
          "base_uri": "https://localhost:8080/",
          "height": 34
        },
        "outputId": "f0dba3f8-139c-4ee6-efc9-cbc23fbd9933"
      },
      "source": [
        "testpred2"
      ],
      "execution_count": null,
      "outputs": [
        {
          "output_type": "execute_result",
          "data": {
            "text/plain": [
              "[70.0, 82.35294117647058, 30.0]"
            ]
          },
          "metadata": {
            "tags": []
          },
          "execution_count": 11
        }
      ]
    },
    {
      "cell_type": "code",
      "metadata": {
        "id": "yL8amt0ALEWt",
        "colab_type": "code",
        "colab": {}
      },
      "source": [
        ""
      ],
      "execution_count": null,
      "outputs": []
    }
  ]
}