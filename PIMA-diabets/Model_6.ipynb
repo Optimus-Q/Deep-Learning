{
  "nbformat": 4,
  "nbformat_minor": 0,
  "metadata": {
    "colab": {
      "name": "Model-6.ipynb",
      "provenance": [],
      "collapsed_sections": []
    },
    "kernelspec": {
      "name": "python3",
      "display_name": "Python 3"
    }
  },
  "cells": [
    {
      "cell_type": "code",
      "metadata": {
        "id": "_f29ovg3YgAP",
        "colab_type": "code",
        "colab": {}
      },
      "source": [
        "# import libraries...\n",
        "\n",
        "import pandas as pd\n",
        "import numpy as np\n",
        "import matplotlib.pyplot as plt\n",
        "\n",
        "from sklearn.preprocessing import MinMaxScaler\n",
        "from sklearn.metrics import accuracy_score, f1_score\n",
        "from sklearn.metrics import confusion_matrix"
      ],
      "execution_count": null,
      "outputs": []
    },
    {
      "cell_type": "code",
      "metadata": {
        "id": "iU0s34yW5eXW",
        "colab_type": "code",
        "colab": {}
      },
      "source": [
        "#load datasets...\n",
        "\n",
        "data = pd.read_csv(\"/content/diabetes.csv\")\n",
        "columns = ['Glucose', 'BloodPressure', 'SkinThickness','Insulin', 'BMI', 'DiabetesPedigreeFunction', 'Age']\n",
        "data[columns] = data[columns].replace(0, np.NaN)\n",
        "data = data.dropna()\n",
        "\n",
        "#------------------------------------------------------------------------------     #Data dividing for tran, valid and test\n",
        "ntrain = int(len(data)*0.85)\n",
        "nvalid = int(len(data)*0.95)\n",
        "#------------------------------------------------------------------------------     # train, validation and test data\n",
        "Xtrain = data.iloc[:ntrain, 0:8].values\n",
        "Xvalid = data.iloc[ntrain:nvalid, 0:8].values\n",
        "Xtest = data.iloc[nvalid:, 0:8].values\n",
        "\n",
        "Ytrain = data.iloc[:ntrain, 8:9].values\n",
        "Yvalid = data.iloc[ntrain:nvalid, 8:9].values\n",
        "Ytest = data.iloc[nvalid:, 8:9].values\n",
        "#-------------------------------------------------------------------------------      # standardized data\n",
        "scaler_xtrain = MinMaxScaler()\n",
        "xtrain_sc = scaler_xtrain.fit_transform(Xtrain)\n",
        "\n",
        "scaler_xvalid = MinMaxScaler()\n",
        "xvalid_sc = scaler_xvalid.fit_transform(Xvalid)\n",
        "\n",
        "scaler_xtest = MinMaxScaler()\n",
        "xtest_sc = scaler_xtest.fit_transform(Xtest)\n",
        "#------------------------------------------------------------------------------       # Adding ones column in the data\n",
        "ones_tn = np.ones(shape = (xtrain_sc.shape[0],1))\n",
        "xtrain_sc = np.hstack([ones_tn, xtrain_sc])\n",
        "\n",
        "ones_va = np.ones(shape = (xvalid_sc.shape[0],1))\n",
        "xvalid_sc =  np.hstack([ones_va, xvalid_sc])\n",
        "\n",
        "ones_ts = np.ones(shape = (xtest_sc.shape[0],1))\n",
        "xtest_sc = np.hstack([ones_ts, xtest_sc])\n",
        "\n",
        "train = np.append(Ytrain, xtrain_sc, axis = 1)"
      ],
      "execution_count": null,
      "outputs": []
    },
    {
      "cell_type": "code",
      "metadata": {
        "id": "G4hIj13OY99D",
        "colab_type": "code",
        "colab": {}
      },
      "source": [
        "def intializer(layers):\n",
        "  np.random.seed(3)\n",
        "  W = np.random.randn(layers[0], layers[1])\n",
        "  return (W)\n",
        "\n",
        "def sigmoid(z):\n",
        "  sig = 1.0/(1.0+np.exp(-z))\n",
        "  return (sig)\n",
        "\n",
        "def decision_fn(A):                                                            \n",
        "  dec = np.where(A > 0.5, 1, 0)\n",
        "  return(dec)\n",
        "\n",
        "def predict(X, W):\n",
        "  Z = np.dot(X, W)\n",
        "  A = sigmoid(Z)\n",
        "  A = decision_fn(A)\n",
        "  return (A)"
      ],
      "execution_count": null,
      "outputs": []
    },
    {
      "cell_type": "code",
      "metadata": {
        "id": "Gy_hah40l2vf",
        "colab_type": "code",
        "colab": {}
      },
      "source": [
        "def minimumcost(vault):\n",
        "  ix = vault[4].index(min(vault[4]))                         \n",
        "  W = vault[0][ix]\n",
        "  W = W.T\n",
        "  return (W)\n",
        "\n",
        "\n",
        "def SPLPrediction(X,Y,W):\n",
        "  pred = predict(X, W)\n",
        "  accuracy = accuracy_score(Y, pred)*100\n",
        "  f1 = f1_score(Y, pred)*100\n",
        "  misclassification = 100-accuracy\n",
        "  result = [accuracy, f1, misclassification]\n",
        "  return (result)\n"
      ],
      "execution_count": null,
      "outputs": []
    },
    {
      "cell_type": "code",
      "metadata": {
        "id": "LTxURu28bNfM",
        "colab_type": "code",
        "colab": {}
      },
      "source": [
        "def indicesShuffle(number):\n",
        "  indexlist = []\n",
        "  i = 0\n",
        "  while (i< number):\n",
        "    n = np.random.randint(0, number)\n",
        "    if n in indexlist:\n",
        "      i = i\n",
        "    else:\n",
        "      indexlist.append(n)\n",
        "      i = i + 1\n",
        "  return (indexlist)\n",
        "\n",
        "def shuffler(X):\n",
        "  number = X.shape[0]\n",
        "  indexShuffle = indicesShuffle(number)\n",
        "  shuffleArray = np.empty((X.shape))\n",
        "  for stack,ix in zip(indexShuffle, range(number)):\n",
        "    shuffleArray[ix] = X[stack]\n",
        "  return (shuffleArray, indexShuffle)\n"
      ],
      "execution_count": null,
      "outputs": []
    },
    {
      "cell_type": "code",
      "metadata": {
        "id": "ttlevYISqUX-",
        "colab_type": "code",
        "colab": {}
      },
      "source": [
        "def SPLGDCV(X, Y, lrT,layersT, shuffleTime, simulationT,lrV, labdV, layersV, XV, YV, simulationV):   #algorithm\n",
        "  costs = []\n",
        "  weights = []\n",
        "  zpred = []\n",
        "  Apred = []\n",
        "  errpred = []\n",
        "  grads = []\n",
        "  results = []\n",
        "  shuffdict = {}\n",
        "  W = intializer(layersT)\n",
        "  shuffle = 1\n",
        "  while (shuffle < shuffleTime):\n",
        "    xtrain, indexes = shuffler(train)\n",
        "    shuffdict['shuffle '+str(shuffle)] = xtrain\n",
        "    xdata = xtrain[:, 1:10]\n",
        "    ydata = xtrain[:, 0:1]\n",
        "    for epoch in range(simulationT):\n",
        "      Z = np.dot(xdata, W)  \n",
        "      A = sigmoid(Z)  \n",
        "      error = A - ydata\n",
        "      m = A.shape[0]\n",
        "      loss = -(np.dot(ydata.T, np.log(A)) + np.dot((1-ydata.T),np.log(1-A)))\n",
        "      cost = (np.sum(loss)/m) \n",
        "      grad =np.dot(xdata.T, error)\n",
        "      costs.append(cost)\n",
        "      weights.append(W.T)\n",
        "      zpred.append(Z.T)\n",
        "      Apred.append(A.T)\n",
        "      errpred.append(error.T)\n",
        "      grads.append(grad.T)\n",
        "      W = W - (lrT/m)*(grad)\n",
        "    Tvault = [weights, zpred, Apred, errpred, costs]\n",
        "    TWmin = minimumcost(Tvault)\n",
        "    validvault = validator(XV, YV, TWmin, lrV, simulationV, layersV, labdV)\n",
        "    Vwmin = minimumcost(validvault)\n",
        "    result = SPLPrediction(xtest_sc, Ytest, Vwmin)\n",
        "    results.append(result)\n",
        "    shuffle = shuffle + 1\n",
        "  vault = [weights, zpred, Apred, errpred, costs, grads] \n",
        "  return (results)\n",
        "\n",
        "\n",
        "\n",
        "\n",
        "def validator(X, Y, W, lr,epochs,layers,labd):                                     # L2- Regualrised gradient descent for validation data\n",
        "  costs = []\n",
        "  weights = []\n",
        "  Zpred = []\n",
        "  Apred = []\n",
        "  errpred = []\n",
        "  grads = []\n",
        "  for epoch in range(epochs):\n",
        "    Z = np.dot(X, W)\n",
        "    A = sigmoid(Z)\n",
        "    error = A - Y\n",
        "    m = A.shape[0]\n",
        "    loss = -(np.dot(Y.T, np.log(A)) + np.dot((1-Y.T),np.log(1-A)))\n",
        "    cost = (np.sum(loss)/m) + (labd/(2*m)*np.dot(W.T, W))\n",
        "    grad =np.dot(X.T, error)\n",
        "    weights.append(W.T)\n",
        "    costs.append(cost)\n",
        "    Zpred.append(Z.T)\n",
        "    Apred.append(A.T)\n",
        "    errpred.append(error.T)\n",
        "    grads.append(grad.T)\n",
        "    W = W - (lr/m)*(grad)-(lr*labd*W)\n",
        "  vault =[weights, Zpred, Apred, errpred, costs, grads]\n",
        "  return (vault)"
      ],
      "execution_count": null,
      "outputs": []
    },
    {
      "cell_type": "markdown",
      "metadata": {
        "id": "YvUJ0eQ2Drnx",
        "colab_type": "text"
      },
      "source": [
        "use 85-95-5 data split for all tests"
      ]
    },
    {
      "cell_type": "markdown",
      "metadata": {
        "id": "ifGmy1vN9aSo",
        "colab_type": "text"
      },
      "source": [
        "TEST-1"
      ]
    },
    {
      "cell_type": "code",
      "metadata": {
        "id": "DwtSnAywmrf3",
        "colab_type": "code",
        "colab": {}
      },
      "source": [
        "# use 85-95-5 data split\n",
        "\n",
        "lrT = 0.4\n",
        "layersT = [xtrain_sc.shape[1], 1]\n",
        "shuffleTime = 10\n",
        "simulationT = 5000\n",
        "\n",
        "\n",
        "lrV = 0.01\n",
        "labdV = 0.001\n",
        "layersV = [xvalid_sc.shape[1], 1]\n",
        "simulationV = 1500\n",
        "results1 = SPLGDCV(xtrain_sc, Ytrain, lrT, layersT,shuffleTime, simulationT,lrV, labdV, layersV, xvalid_sc, Yvalid, simulationV)\n",
        "\n",
        "avg_results1 = np.asarray(results1)\n",
        "accuracy1 = np.mean(avg_results1[:, 0:1])\n",
        "f1_1 = np.mean(avg_results1[:, 1:2])\n",
        "misclf1 = np.mean(avg_results1[:, 2:3])"
      ],
      "execution_count": null,
      "outputs": []
    },
    {
      "cell_type": "code",
      "metadata": {
        "id": "2gpZgqSq-E2o",
        "colab_type": "code",
        "colab": {
          "base_uri": "https://localhost:8080/",
          "height": 34
        },
        "outputId": "84c51e7f-53ef-4837-b4cb-2d006668bc3a"
      },
      "source": [
        "accuracy1, f1_1, misclf1"
      ],
      "execution_count": null,
      "outputs": [
        {
          "output_type": "execute_result",
          "data": {
            "text/plain": [
              "(85.0, 72.72727272727272, 15.0)"
            ]
          },
          "metadata": {
            "tags": []
          },
          "execution_count": 8
        }
      ]
    },
    {
      "cell_type": "markdown",
      "metadata": {
        "id": "uLFmIxQs9hAz",
        "colab_type": "text"
      },
      "source": [
        "TEST-2"
      ]
    },
    {
      "cell_type": "code",
      "metadata": {
        "id": "Q3qWfSlXw4Ka",
        "colab_type": "code",
        "colab": {}
      },
      "source": [
        "lrT = 0.4\n",
        "layersT = [xtrain_sc.shape[1], 1]\n",
        "shuffleTime = 10\n",
        "simulationT = 5000\n",
        "\n",
        "\n",
        "lrV = 0.1\n",
        "labdV = 0.01\n",
        "layersV = [xvalid_sc.shape[1], 1]\n",
        "simulationV = 2000\n",
        "results2 = SPLGDCV(xtrain_sc, Ytrain, lrT, layersT,shuffleTime, simulationT,lrV, labdV, layersV, xvalid_sc, Yvalid, simulationV)\n",
        "\n",
        "avg_results2 = np.asarray(results2)\n",
        "accuracy2 = np.mean(avg_results2[:, 0:1])\n",
        "f1_2 = np.mean(avg_results2[:, 1:2])\n",
        "misclf2 = np.mean(avg_results2[:, 2:3])"
      ],
      "execution_count": null,
      "outputs": []
    },
    {
      "cell_type": "code",
      "metadata": {
        "id": "VsuBdjDm_Ci3",
        "colab_type": "code",
        "colab": {
          "base_uri": "https://localhost:8080/",
          "height": 34
        },
        "outputId": "f56fb50d-cf67-4d92-a2b1-46bdaf461e73"
      },
      "source": [
        "accuracy2, f1_2, misclf2"
      ],
      "execution_count": null,
      "outputs": [
        {
          "output_type": "execute_result",
          "data": {
            "text/plain": [
              "(85.0, 72.72727272727272, 15.0)"
            ]
          },
          "metadata": {
            "tags": []
          },
          "execution_count": 11
        }
      ]
    },
    {
      "cell_type": "markdown",
      "metadata": {
        "id": "88dmuOTJ9jap",
        "colab_type": "text"
      },
      "source": [
        "TEST-3"
      ]
    },
    {
      "cell_type": "code",
      "metadata": {
        "id": "BfYDuhbBTVmW",
        "colab_type": "code",
        "colab": {}
      },
      "source": [
        "lrT = 0.8\n",
        "layersT = [xtrain_sc.shape[1], 1]\n",
        "shuffleTime = 50\n",
        "simulationT = 5000\n",
        "\n",
        "\n",
        "lrV = 0.05\n",
        "labdV = 0.002\n",
        "layersV = [xvalid_sc.shape[1], 1]\n",
        "simulationV = 1000\n",
        "results3 = SPLGDCV(xtrain_sc, Ytrain, lrT, layersT,shuffleTime, simulationT,lrV, labdV, layersV, xvalid_sc, Yvalid, simulationV)\n",
        "\n",
        "avg_results3 = np.asarray(results3)\n",
        "accuracy3 = np.mean(avg_results3[:, 0:1])\n",
        "f1_3 = np.mean(avg_results3[:, 1:2])\n",
        "misclf3 = np.mean(avg_results3[:, 2:3])"
      ],
      "execution_count": null,
      "outputs": []
    },
    {
      "cell_type": "code",
      "metadata": {
        "id": "vcCuYGno9nG3",
        "colab_type": "code",
        "colab": {
          "base_uri": "https://localhost:8080/",
          "height": 34
        },
        "outputId": "20181ab7-86f0-461f-8a69-994d70d40e4c"
      },
      "source": [
        "accuracy3, f1_3, misclf3"
      ],
      "execution_count": null,
      "outputs": [
        {
          "output_type": "execute_result",
          "data": {
            "text/plain": [
              "(85.0, 72.72727272727272, 15.0)"
            ]
          },
          "metadata": {
            "tags": []
          },
          "execution_count": 15
        }
      ]
    },
    {
      "cell_type": "code",
      "metadata": {
        "id": "nFJlAM0V_oPh",
        "colab_type": "code",
        "colab": {
          "base_uri": "https://localhost:8080/",
          "height": 441
        },
        "outputId": "9768e338-c916-4448-81c2-34276c3abcf8"
      },
      "source": [
        "print(\"Accuracy of TEST-1 = \",accuracy1)\n",
        "print(\"Accuracy of TEST-2 = \", accuracy2)\n",
        "print(\"Accuracy of TEST-3 = \", accuracy3)\n",
        "\n",
        "plt.figure(figsize = (5,6))\n",
        "plt.bar(x = ['TEST-1', 'TEST-2', 'TEST-3'], height = [accuracy1, accuracy2, accuracy3], width = 0.4, color = 'tan')\n",
        "plt.title(\"Accuracy between different tests\")\n",
        "plt.ylabel(\"Accuracy(%)\")\n",
        "plt.show()\n",
        "\n"
      ],
      "execution_count": null,
      "outputs": [
        {
          "output_type": "stream",
          "text": [
            "Accuracy of TEST-1 =  85.0\n",
            "Accuracy of TEST-2 =  85.0\n",
            "Accuracy of TEST-3 =  85.0\n"
          ],
          "name": "stdout"
        },
        {
          "output_type": "display_data",
          "data": {
            "image/png": "[encoded data removed]",
            "text/plain": [
              "<Figure size 360x432 with 1 Axes>"
            ]
          },
          "metadata": {
            "tags": [],
            "needs_background": "light"
          }
        }
      ]
    },
    {
      "cell_type": "code",
      "metadata": {
        "id": "GLzNCEbKDGhp",
        "colab_type": "code",
        "colab": {}
      },
      "source": [
        ""
      ],
      "execution_count": null,
      "outputs": []
    }
  ]
}