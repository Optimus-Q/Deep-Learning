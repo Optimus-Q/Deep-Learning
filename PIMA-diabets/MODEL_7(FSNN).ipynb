{
  "nbformat": 4,
  "nbformat_minor": 0,
  "metadata": {
    "colab": {
      "name": "MODEL-7(FSNN).ipynb",
      "provenance": [],
      "collapsed_sections": []
    },
    "kernelspec": {
      "name": "python3",
      "display_name": "Python 3"
    }
  },
  "cells": [
    {
      "cell_type": "code",
      "metadata": {
        "id": "Zsr466ykBTH1",
        "colab_type": "code",
        "colab": {}
      },
      "source": [
        "# import libraries....\n",
        "import pandas as pd\n",
        "import numpy as np\n",
        "import warnings\n",
        "from sklearn.exceptions import DataConversionWarning\n",
        "from sklearn.preprocessing import MinMaxScaler\n",
        "from sklearn.metrics import accuracy_score, f1_score\n",
        "from sklearn.metrics import confusion_matrix\n",
        "from sklearn.ensemble import RandomForestClassifier\n",
        "from sklearn.model_selection import train_test_split\n",
        "warnings.filterwarnings(action = 'ignore', category = DataConversionWarning)"
      ],
      "execution_count": null,
      "outputs": []
    },
    {
      "cell_type": "code",
      "metadata": {
        "id": "wgTiDY8CF0iU",
        "colab_type": "code",
        "colab": {}
      },
      "source": [
        "# load datasets...\n",
        "\n",
        "data = pd.read_csv(\"/content/diabetes.csv\")\n",
        "columns = ['Glucose', 'BloodPressure', 'SkinThickness','Insulin', 'BMI', 'DiabetesPedigreeFunction', 'Age']\n",
        "data[columns] = data[columns].replace(0, np.NaN)\n",
        "data = data.dropna()\n",
        "\n",
        "#------------------------------------------------------------------------------     #Data dividing for tran, valid and test\n",
        "ntrain = int(len(data)*0.60)\n",
        "#------------------------------------------------------------------------------     # train, validation and test data\n",
        "Xtrain = data.iloc[:ntrain, 0:8].values\n",
        "Xtest = data.iloc[ntrain:, 0:8].values\n",
        "\n",
        "Ytrain = data.iloc[:ntrain, 8:9].values\n",
        "Ytest = data.iloc[ntrain:, 8:9].values\n",
        "#-------------------------------------------------------------------------------      # standardized data\n",
        "scaler_xtrain = MinMaxScaler()\n",
        "xtrain_sc = scaler_xtrain.fit_transform(Xtrain)\n",
        "\n",
        "scaler_xtest = MinMaxScaler()\n",
        "xtest_sc = scaler_xtest.fit_transform(Xtest)\n",
        "#------------------------------------------------------------------------------       # Adding ones column in the data\n",
        "ones_tn = np.ones(shape = (xtrain_sc.shape[0],1))\n",
        "xtrain_sc = np.hstack([ones_tn, xtrain_sc])\n",
        "\n",
        "ones_ts = np.ones(shape = (xtest_sc.shape[0],1))\n",
        "xtest_sc = np.hstack([ones_ts, xtest_sc])\n",
        "\n",
        "train = np.append(Ytrain, xtrain_sc, axis = 1)"
      ],
      "execution_count": null,
      "outputs": []
    },
    {
      "cell_type": "code",
      "metadata": {
        "id": "q9o7H-kBGR0F",
        "colab_type": "code",
        "colab": {}
      },
      "source": [
        "def intializer(layers):\n",
        "  np.random.seed(3)\n",
        "  W = np.random.randn(layers[0], layers[1])\n",
        "  return (W)\n",
        "\n",
        "def sigmoid(z):\n",
        "  sig = 1.0/(1.0+np.exp(-z))\n",
        "  return (sig)\n",
        "\n",
        "def decision_fn(A):                                                            \n",
        "  dec = np.where(A > 0.5, 1, 0)\n",
        "  return(dec)\n",
        "\n",
        "def predict(X, W):\n",
        "  Z = np.dot(X, W)\n",
        "  A = sigmoid(Z)\n",
        "  A = decision_fn(A)\n",
        "  return (A)\n",
        "\n",
        "def indicesShuffle(number):                 #shuffling algo\n",
        "  indexlist = []\n",
        "  i = 0\n",
        "  while (i< number):\n",
        "    n = np.random.randint(0, number)\n",
        "    if n in indexlist:\n",
        "      i = i\n",
        "    else:\n",
        "      indexlist.append(n)\n",
        "      i = i + 1\n",
        "  return (indexlist)\n",
        "\n",
        "def shuffler(X):\n",
        "  number = X.shape[0]\n",
        "  indexShuffle = indicesShuffle(number)\n",
        "  shuffleArray = np.empty((X.shape))\n",
        "  for stack,ix in zip(indexShuffle, range(number)):\n",
        "    shuffleArray[ix] = X[stack]\n",
        "  return (shuffleArray, indexShuffle)\n",
        "\n",
        "def minimumcost(vault):\n",
        "  ix = vault[4].index(min(vault[4]))                         \n",
        "  W = vault[0][ix]\n",
        "  W = W.T\n",
        "  return (W)\n",
        "\n",
        "\n",
        "def SPLPrediction(X,Y,W):     \n",
        "  pred = predict(X, W)\n",
        "  accuracy = accuracy_score(Y, pred)*100\n",
        "  f1 = f1_score(Y, pred)*100\n",
        "  misclassification = 100-accuracy\n",
        "  result = [accuracy, f1, misclassification]\n",
        "  return (result)\n",
        "  \n",
        "def SPLGD(X,Y,lr,epochs,layers):    #gradient descent for FSNN\n",
        "  weights = []\n",
        "  zpred = []\n",
        "  Apred = []\n",
        "  errpred = []\n",
        "  costs = []\n",
        "  grads = []\n",
        "  vault = []\n",
        "  W = intializer(layers)\n",
        "  for epoch in range(epochs):\n",
        "    Z = np.dot(X, W)\n",
        "    A = sigmoid(Z)\n",
        "    error = A - Y\n",
        "    m = A.shape[0]\n",
        "    loss = -(np.dot(Y.T, np.log(A)) + np.dot((1-Y.T),np.log(1-A)))\n",
        "    cost = np.sum(loss)/m\n",
        "    grad =np.dot(X.T, error)\n",
        "    weights.append((W.T))\n",
        "    zpred.append(Z.T)\n",
        "    Apred.append(A.T)\n",
        "    errpred.append(error.T)\n",
        "    costs.append(cost)\n",
        "    grads.append(grad.T)\n",
        "    W = W - (lr/m)*(grad)\n",
        "    vault = [weights, zpred, Apred, errpred, costs, grads]\n",
        "  return (vault)"
      ],
      "execution_count": null,
      "outputs": []
    },
    {
      "cell_type": "code",
      "metadata": {
        "id": "3bScecrBHq0D",
        "colab_type": "code",
        "colab": {}
      },
      "source": [
        "def FSLNN(Xn, Yn, Xt, Yt, allData, lr, epochs, layers, shuffleTime, trees):     #FSNN CORE ALGO\n",
        "  #valut store....\n",
        "  shuffdict = {}\n",
        "  RFstackdata = {}\n",
        "  RFtestStackData = {}\n",
        "  GDcache = {}\n",
        "  MinWeight = {}\n",
        "  report = []\n",
        "\n",
        "  # shuffling Algo...\n",
        "  shuffle = 1\n",
        "  while (shuffle <= shuffleTime):\n",
        "    xtrain, indexes = shuffler(allData)\n",
        "    shuffdict['shuffle '+str(shuffle)] = xtrain\n",
        "    xdata = xtrain[:, 1:10]\n",
        "    ydata = xtrain[:, 0:1]\n",
        "\n",
        "    # Action from RandomForest  \n",
        "    # 1) Train.....\n",
        "    stackdata = np.empty(shape = (trees,Xn.shape[0]))\n",
        "    for i in range(1, trees):\n",
        "      clf = RandomForestClassifier(n_estimators=i)\n",
        "      clf.fit(xdata, ydata)\n",
        "      y_pred = clf.predict(xdata)\n",
        "      stackdata[i]= y_pred\n",
        "    RFstackdata['TrainSTack'+str(shuffle)] = stackdata \n",
        "\n",
        "    #2) Test.....\n",
        "    teststackdata = np.empty(shape = (trees,Xt.shape[0]))\n",
        "    for j in range(1, trees):\n",
        "      clft = RandomForestClassifier(n_estimators=j)\n",
        "      clft.fit(Xn, Yn)\n",
        "      y_predt = clft.predict(Xt)\n",
        "      teststackdata[j]= y_predt\n",
        "    RFtestStackData['TestSTack'+str(shuffle)] = teststackdata \n",
        "\n",
        "\n",
        "    # Gradient descent...\n",
        "\n",
        "    cache = SPLGD(X = stackdata.T,Y = ydata,lr = lr,epochs = epochs,layers = layers)\n",
        "    GDcache['cache'+str(shuffle)] =  cache\n",
        "\n",
        "    # weight at min cost\n",
        "\n",
        "    W = minimumcost(cache)\n",
        "    MinWeight['Weights selected'+str(shuffle)] = W\n",
        "\n",
        "    # results..\n",
        "\n",
        "    testcheck = SPLPrediction(teststackdata.T, Yt, W)\n",
        "    report.append(testcheck)\n",
        "    shuffle+=1\n",
        "  vault = [shuffdict, RFstackdata, RFtestStackData, GDcache, MinWeight]\n",
        "  return (report)"
      ],
      "execution_count": null,
      "outputs": []
    },
    {
      "cell_type": "markdown",
      "metadata": {
        "id": "SbfR3bqOFT1K",
        "colab_type": "text"
      },
      "source": [
        "USE 60% of train data and 40% test"
      ]
    },
    {
      "cell_type": "markdown",
      "metadata": {
        "id": "d6rl4_rQH-a_",
        "colab_type": "text"
      },
      "source": [
        "TEST-1"
      ]
    },
    {
      "cell_type": "code",
      "metadata": {
        "id": "oHqN6XoHH-Xm",
        "colab_type": "code",
        "colab": {
          "base_uri": "https://localhost:8080/",
          "height": 187
        },
        "outputId": "6c5fa23c-7093-427f-9a45-43e371dab5d5"
      },
      "source": [
        "trees = 500\n",
        "layers = [trees, 1]\n",
        "lr = 0.8\n",
        "iters = 5000\n",
        "shuffleTime = 10\n",
        "report1= FSLNN(Xn = xtrain_sc, Yn = Ytrain, Xt = xtest_sc, Yt = Ytest, allData = train, lr = lr, epochs = iters, layers = layers, shuffleTime = shuffleTime, trees = trees)\n",
        "\n",
        "avg_results1 = np.asarray(report1)\n",
        "accuracy1 = np.mean(avg_results1[:, 0:1])\n",
        "f1_1 = np.mean(avg_results1[:, 1:2])\n",
        "misclf1 = np.mean(avg_results1[:, 2:3])"
      ],
      "execution_count": null,
      "outputs": [
        {
          "output_type": "stream",
          "text": [
            "/usr/local/lib/python3.6/dist-packages/ipykernel_launcher.py:69: RuntimeWarning: divide by zero encountered in log\n",
            "/usr/local/lib/python3.6/dist-packages/ipykernel_launcher.py:69: RuntimeWarning: divide by zero encountered in log\n",
            "/usr/local/lib/python3.6/dist-packages/ipykernel_launcher.py:69: RuntimeWarning: divide by zero encountered in log\n",
            "/usr/local/lib/python3.6/dist-packages/ipykernel_launcher.py:69: RuntimeWarning: divide by zero encountered in log\n",
            "/usr/local/lib/python3.6/dist-packages/ipykernel_launcher.py:69: RuntimeWarning: divide by zero encountered in log\n",
            "/usr/local/lib/python3.6/dist-packages/ipykernel_launcher.py:69: RuntimeWarning: divide by zero encountered in log\n",
            "/usr/local/lib/python3.6/dist-packages/ipykernel_launcher.py:69: RuntimeWarning: divide by zero encountered in log\n",
            "/usr/local/lib/python3.6/dist-packages/ipykernel_launcher.py:69: RuntimeWarning: divide by zero encountered in log\n",
            "/usr/local/lib/python3.6/dist-packages/ipykernel_launcher.py:69: RuntimeWarning: divide by zero encountered in log\n",
            "/usr/local/lib/python3.6/dist-packages/ipykernel_launcher.py:69: RuntimeWarning: divide by zero encountered in log\n"
          ],
          "name": "stderr"
        }
      ]
    },
    {
      "cell_type": "code",
      "metadata": {
        "id": "xFFB1zFMJepD",
        "colab_type": "code",
        "colab": {
          "base_uri": "https://localhost:8080/",
          "height": 68
        },
        "outputId": "44e7fe28-92f7-42da-fc0b-e311b54e3747"
      },
      "source": [
        "print(\"Accuracy of the test model is : \", accuracy1)\n",
        "print(\"F1 score of the test model is : \", f1_1)\n",
        "print(\"Misclassification rate of the test model is : \", misclf1)"
      ],
      "execution_count": null,
      "outputs": [
        {
          "output_type": "stream",
          "text": [
            "Accuracy of the test model is :  78.59872611464968\n",
            "F1 score of the test model is :  68.78205128205127\n",
            "Misclassification rate of the test model is :  21.40127388535031\n"
          ],
          "name": "stdout"
        }
      ]
    },
    {
      "cell_type": "markdown",
      "metadata": {
        "id": "nF3R9oURICrG",
        "colab_type": "text"
      },
      "source": [
        "TEST-2"
      ]
    },
    {
      "cell_type": "code",
      "metadata": {
        "id": "_nXhmH1-O44l",
        "colab_type": "code",
        "colab": {
          "base_uri": "https://localhost:8080/",
          "height": 187
        },
        "outputId": "e4936a92-674a-41ed-f44d-9c4a88f407db"
      },
      "source": [
        "trees = 200\n",
        "layers = [trees, 1]\n",
        "lr = 0.8\n",
        "iters = 5000\n",
        "shuffleTime = 10\n",
        "report2= FSLNN(Xn = xtrain_sc, Yn = Ytrain, Xt = xtest_sc, Yt = Ytest, allData = train, lr = lr, epochs = iters, layers = layers, shuffleTime = shuffleTime, trees = trees)\n",
        "\n",
        "avg_results2 = np.asarray(report2)\n",
        "accuracy2 = np.mean(avg_results2[:, 0:1])\n",
        "f1_2 = np.mean(avg_results2[:, 1:2])\n",
        "misclf2 = np.mean(avg_results2[:, 2:3])"
      ],
      "execution_count": null,
      "outputs": [
        {
          "output_type": "stream",
          "text": [
            "/usr/local/lib/python3.6/dist-packages/ipykernel_launcher.py:69: RuntimeWarning: divide by zero encountered in log\n",
            "/usr/local/lib/python3.6/dist-packages/ipykernel_launcher.py:69: RuntimeWarning: divide by zero encountered in log\n",
            "/usr/local/lib/python3.6/dist-packages/ipykernel_launcher.py:69: RuntimeWarning: divide by zero encountered in log\n",
            "/usr/local/lib/python3.6/dist-packages/ipykernel_launcher.py:69: RuntimeWarning: divide by zero encountered in log\n",
            "/usr/local/lib/python3.6/dist-packages/ipykernel_launcher.py:69: RuntimeWarning: divide by zero encountered in log\n",
            "/usr/local/lib/python3.6/dist-packages/ipykernel_launcher.py:69: RuntimeWarning: divide by zero encountered in log\n",
            "/usr/local/lib/python3.6/dist-packages/ipykernel_launcher.py:69: RuntimeWarning: divide by zero encountered in log\n",
            "/usr/local/lib/python3.6/dist-packages/ipykernel_launcher.py:69: RuntimeWarning: divide by zero encountered in log\n",
            "/usr/local/lib/python3.6/dist-packages/ipykernel_launcher.py:69: RuntimeWarning: divide by zero encountered in log\n",
            "/usr/local/lib/python3.6/dist-packages/ipykernel_launcher.py:69: RuntimeWarning: divide by zero encountered in log\n"
          ],
          "name": "stderr"
        }
      ]
    },
    {
      "cell_type": "code",
      "metadata": {
        "id": "mn-tAqcQIOWa",
        "colab_type": "code",
        "colab": {
          "base_uri": "https://localhost:8080/",
          "height": 68
        },
        "outputId": "d0a5f756-3cfc-4fb9-c9e2-671147f5909a"
      },
      "source": [
        "print(\"Accuracy of the test model is : \", accuracy2)\n",
        "print(\"F1 score of the test model is : \", f1_2)\n",
        "print(\"Misclassification rate of the test model is : \", misclf2)"
      ],
      "execution_count": null,
      "outputs": [
        {
          "output_type": "stream",
          "text": [
            "Accuracy of the test model is :  64.20382165605095\n",
            "F1 score of the test model is :  57.1785551232705\n",
            "Misclassification rate of the test model is :  35.79617834394905\n"
          ],
          "name": "stdout"
        }
      ]
    },
    {
      "cell_type": "markdown",
      "metadata": {
        "id": "cxfjV_cdIXm5",
        "colab_type": "text"
      },
      "source": [
        "TEST-3"
      ]
    },
    {
      "cell_type": "code",
      "metadata": {
        "id": "CrNOKSvxITDB",
        "colab_type": "code",
        "colab": {
          "base_uri": "https://localhost:8080/",
          "height": 34
        },
        "outputId": "c02f353e-0ca6-4da7-f8c9-553fa799d4cf"
      },
      "source": [
        "trees = 80\n",
        "layers = [trees, 1]\n",
        "lr = 0.8\n",
        "iters = 5000\n",
        "shuffleTime = 10\n",
        "report3= FSLNN(Xn = xtrain_sc, Yn = Ytrain, Xt = xtest_sc, Yt = Ytest, allData = train, lr = lr, epochs = iters, layers = layers, shuffleTime = shuffleTime, trees = trees)\n",
        "\n",
        "avg_results3 = np.asarray(report3)\n",
        "accuracy3 = np.mean(avg_results3[:, 0:1])\n",
        "f1_3 = np.mean(avg_results3[:, 1:2])\n",
        "misclf3 = np.mean(avg_results3[:, 2:3])"
      ],
      "execution_count": null,
      "outputs": [
        {
          "output_type": "stream",
          "text": [
            "/usr/local/lib/python3.6/dist-packages/ipykernel_launcher.py:69: RuntimeWarning: divide by zero encountered in log\n"
          ],
          "name": "stderr"
        }
      ]
    },
    {
      "cell_type": "code",
      "metadata": {
        "id": "QeHW6vbnIiPa",
        "colab_type": "code",
        "colab": {
          "base_uri": "https://localhost:8080/",
          "height": 68
        },
        "outputId": "168194c7-874b-4d0e-8884-a726f877f145"
      },
      "source": [
        "print(\"Accuracy of the test model is : \", accuracy3)\n",
        "print(\"F1 score of the test model is : \", f1_3)\n",
        "print(\"Misclassification rate of the test model is : \", misclf3)"
      ],
      "execution_count": null,
      "outputs": [
        {
          "output_type": "stream",
          "text": [
            "Accuracy of the test model is :  64.45859872611466\n",
            "F1 score of the test model is :  56.52350504315284\n",
            "Misclassification rate of the test model is :  35.541401273885356\n"
          ],
          "name": "stdout"
        }
      ]
    },
    {
      "cell_type": "code",
      "metadata": {
        "id": "Aa_83Z8ZIk7A",
        "colab_type": "code",
        "colab": {}
      },
      "source": [
        ""
      ],
      "execution_count": null,
      "outputs": []
    }
  ]
}