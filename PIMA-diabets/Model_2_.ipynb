{
  "nbformat": 4,
  "nbformat_minor": 0,
  "metadata": {
    "colab": {
      "name": "Model-2 .ipynb",
      "provenance": [],
      "collapsed_sections": []
    },
    "kernelspec": {
      "name": "python3",
      "display_name": "Python 3"
    }
  },
  "cells": [
    {
      "cell_type": "code",
      "metadata": {
        "id": "21Hdn0JeQnUX",
        "colab_type": "code",
        "colab": {}
      },
      "source": [
        "# import libraries...\n",
        "import pandas as pd\n",
        "import numpy as np\n",
        "import matplotlib.pyplot as plt\n",
        "import matplotlib.patches as mpatch\n",
        "from sklearn.preprocessing import MinMaxScaler\n",
        "from sklearn.metrics import accuracy_score, f1_score\n",
        "from sklearn.metrics import confusion_matrix"
      ],
      "execution_count": 1,
      "outputs": []
    },
    {
      "cell_type": "code",
      "metadata": {
        "id": "TPmw5zpWQrSQ",
        "colab_type": "code",
        "colab": {}
      },
      "source": [
        "# load dataset\n",
        "data = pd.read_csv(\"/content/diabetes.csv\")\n",
        "columns = ['Glucose', 'BloodPressure', 'SkinThickness','Insulin', 'BMI', 'DiabetesPedigreeFunction', 'Age']\n",
        "data[columns] = data[columns].replace(0, np.NaN)\n",
        "data = data.dropna()\n",
        "data['Outcome'] = data['Outcome'].apply(lambda x: -1 if (x == 1) else 1)\n",
        "\n",
        "#------------------------------------------------------------------------------     #Data dividing for tran, valid and test\n",
        "ntrain = int(len(data)*0.90)\n",
        "nvalid = int(len(data)*0.95)\n",
        "#-----------------------------------------------------------------------------     # train, validation and test data\n",
        "Xtrain = data.iloc[:ntrain, 0:8].values\n",
        "Xvalid = data.iloc[ntrain:nvalid, 0:8].values\n",
        "Xtest = data.iloc[nvalid:, 0:8].values\n",
        "\n",
        "Ytrain = data.iloc[:ntrain, 8:9].values\n",
        "Yvalid = data.iloc[ntrain:nvalid, 8:9].values\n",
        "Ytest = data.iloc[nvalid:, 8:9].values\n",
        "#-------------------------------------------------------------------------------      # standardized data\n",
        "scaler_xtrain = MinMaxScaler()\n",
        "xtrain_sc = scaler_xtrain.fit_transform(Xtrain)\n",
        "\n",
        "scaler_xvalid = MinMaxScaler()\n",
        "xvalid_sc = scaler_xvalid.fit_transform(Xvalid)\n",
        "\n",
        "scaler_xtest = MinMaxScaler()\n",
        "xtest_sc = scaler_xtest.fit_transform(Xtest)\n",
        "#------------------------------------------------------------------------------       # Adding ones column in the data\n",
        "ones_tn = np.ones(shape = (xtrain_sc.shape[0],1))\n",
        "xtrain_sc = np.hstack([ones_tn, xtrain_sc])\n",
        "\n",
        "ones_va = np.ones(shape = (xvalid_sc.shape[0],1))\n",
        "xvalid_sc =  np.hstack([ones_va, xvalid_sc])\n",
        "\n",
        "ones_ts = np.ones(shape = (xtest_sc.shape[0],1))\n",
        "xtest_sc = np.hstack([ones_ts, xtest_sc])\n",
        "\n",
        "\n",
        "train = np.append(Ytrain, xtrain_sc, axis = 1)\n"
      ],
      "execution_count": 8,
      "outputs": []
    },
    {
      "cell_type": "code",
      "metadata": {
        "id": "8gY3As6gQ-5k",
        "colab_type": "code",
        "colab": {}
      },
      "source": [
        "def intializer(layers):   # intialize paramters\n",
        "  np.random.seed(3)\n",
        "  W = np.random.randn(layers[0], layers[1])*0.1\n",
        "  return (W)\n",
        "\n",
        "def decision_fn(z):                   # decision fn                                         \n",
        "  dec = np.where(z > 0, -1, 1)\n",
        "  return(dec)\n",
        "\n",
        "def weight_upadte(W, lr, grads, labd):\n",
        "  Wnew = W + lr*grads - (lr*labd*W)        \n",
        "  return (Wnew)\n",
        "\n",
        "def predict(X, W):  #predict\n",
        "  Z = np.dot(X, W)\n",
        "  A = decision_fn(Z)\n",
        "  return (A)\n",
        "########################################## shuffling algorithm  ##########################################\n",
        "def indicesShuffle(number):\n",
        "  indexlist = []\n",
        "  i = 0\n",
        "  while (i< number):\n",
        "    n = np.random.randint(0, number)\n",
        "    if n in indexlist:\n",
        "      i = i\n",
        "    else:\n",
        "      indexlist.append(n)\n",
        "      i = i + 1\n",
        "  return (indexlist)\n",
        "\n",
        "def shuffler(X):\n",
        "  number = X.shape[0]\n",
        "  indexShuffle = indicesShuffle(number)\n",
        "  shuffleArray = np.empty((X.shape))\n",
        "  for stack,ix in zip(indexShuffle, range(number)):\n",
        "    shuffleArray[ix] = X[stack]\n",
        "  return (shuffleArray, indexShuffle)\n",
        "\n",
        "def minimumcost(vault):\n",
        "  ix = vault[4].index(min(vault[4]))                         \n",
        "  W = vault[0][ix]\n",
        "  return (W)\n",
        "\n",
        "\n",
        "def SPLPrediction(X,Y,W):   # prediction and metric fn\n",
        "  pred = predict(X, W)\n",
        "  accuracy = accuracy_score(Y, pred)*100\n",
        "  f1 = f1_score(Y, pred)*100\n",
        "  misclassification = 100-accuracy\n",
        "  result = [accuracy, f1, misclassification]\n",
        "  return (result)\n"
      ],
      "execution_count": 3,
      "outputs": []
    },
    {
      "cell_type": "code",
      "metadata": {
        "id": "YS4enXHsSY8l",
        "colab_type": "code",
        "colab": {}
      },
      "source": [
        "def SPLCV( XT, YT, lrT,  labdT, layersT,shuffleTime, simulationT,lrV, labdV, layersV, XV, YV, simulationV):   # core algorithm for the model 2\n",
        "  shuffdict = {}\n",
        "  costs = []\n",
        "  zpred = []\n",
        "  Apred = []\n",
        "  weights = []\n",
        "  errpred = []\n",
        "  results = []\n",
        "  m = XT.shape[0]\n",
        "  W = intializer(layersT)\n",
        "  shuffle = 1\n",
        "  while (shuffle < shuffleTime):   # shuffle\n",
        "    xtrain, indexes = shuffler(train)\n",
        "    shuffdict['shuffle '+str(shuffle)] = xtrain\n",
        "    xdata = xtrain[:, 1:10]\n",
        "    ydata = xtrain[:, 0:1]\n",
        "    for iter in range(simulationT):\n",
        "      Z = np.dot(xdata, W)\n",
        "      A = decision_fn(Z)\n",
        "      E = np.multiply(ydata,A)\n",
        "      E =  np.maximum(0, -E)\n",
        "      Loss = np.sum(E)\n",
        "      cost = Loss/m + (labdT/(2*m)*np.dot(W.T, W))\n",
        "      costs.append(cost)                                        #emperical risk\n",
        "      grads = np.dot(xdata.T,A)\n",
        "      weights.append(W)\n",
        "      W = weight_upadte(W, lrT, grads, labdT)\n",
        "    Tvault = [weights, zpred, Apred, errpred, costs]\n",
        "    TWmin = minimumcost(Tvault)                              # get min.cost and corresponding weight\n",
        "    validvault = validator(lrV, labdV, layersV, XV, YV, simulationV, TWmin)    # use the training phase parameter\n",
        "    Vwmin = minimumcost(validvault)                                        # find the min. cost and correponding weight\n",
        "    result = SPLPrediction(xtest_sc, Ytest, Vwmin)                           # use the validatipn phase para,eter to fit test dataset.\n",
        "    results.append(result)\n",
        "    shuffle = shuffle + 1                 #shuffle again\n",
        "  return (results)\n",
        "\n",
        "\n",
        "def validator(lr, labd, layers, X, Y, simulation, W = 0):         # algo for L2 regularization\n",
        "  zpred = []\n",
        "  Apred = []\n",
        "  errpred = []\n",
        "  costs = []\n",
        "  weights = []\n",
        "  m = X.shape[0]\n",
        "  for iter in range(simulation):\n",
        "    Z = np.dot(X, W)\n",
        "    A = decision_fn(Z)\n",
        "    E = np.multiply(Y,A)\n",
        "    E =  np.maximum(0, -E)\n",
        "    Loss = np.sum(E)\n",
        "    cost = Loss/m + (labd/(2*m)*np.dot(W.T, W))\n",
        "    costs.append(cost)                                       \n",
        "    grads = np.dot(X.T,A)\n",
        "    weights.append(W)\n",
        "    W = weight_upadte(W, lr, grads, labd)\n",
        "  vault = [weights, zpred, Apred, errpred, costs]\n",
        "  return (vault)"
      ],
      "execution_count": 4,
      "outputs": []
    },
    {
      "cell_type": "markdown",
      "metadata": {
        "id": "KVu7GqDV2QFV",
        "colab_type": "text"
      },
      "source": [
        "Test-1"
      ]
    },
    {
      "cell_type": "code",
      "metadata": {
        "id": "CvpuoLEhwqcS",
        "colab_type": "code",
        "colab": {}
      },
      "source": [
        "#use 60-85-15 data split\n",
        "lrT = 0.05\n",
        "labdT = 0.0001\n",
        "layersT = [xtrain_sc.shape[1], 1]\n",
        "shuffleTime = 20\n",
        "simulationT = 10000\n",
        "\n",
        "lrV = 0.01\n",
        "labdV = 0.0001\n",
        "layersV = [xvalid_sc.shape[1], 1]\n",
        "simulationV = 3000\n",
        "results1 = SPLCV(xtrain_sc, Ytrain, lrT,  labdT, layersT,shuffleTime, simulationT,lrV, labdV, layersV, xvalid_sc, Yvalid, simulationV)\n",
        "\n",
        "avg_results1 = np.asarray(results1)\n",
        "accuracy1 = np.mean(avg_results1[:, 0:1])\n",
        "f1_1 = np.mean(avg_results1[:, 1:2])\n",
        "misclf1 = np.mean(avg_results1[:, 2:3])"
      ],
      "execution_count": 5,
      "outputs": []
    },
    {
      "cell_type": "markdown",
      "metadata": {
        "id": "w3xSEi8z2mrh",
        "colab_type": "text"
      },
      "source": [
        "Test-2"
      ]
    },
    {
      "cell_type": "code",
      "metadata": {
        "id": "gPx6MPNm2l0s",
        "colab_type": "code",
        "colab": {}
      },
      "source": [
        "#use 85-95-5 data split\n",
        "lrT = 0.01\n",
        "labdT = 0.005\n",
        "layersT = [xtrain_sc.shape[1], 1]\n",
        "shuffleTime = 5\n",
        "simulationT = 10000\n",
        "\n",
        "lrV = 0.01\n",
        "labdV = 0.0005\n",
        "layersV = [xvalid_sc.shape[1], 1]\n",
        "simulationV = 10000\n",
        "results2 = SPLCV(xtrain_sc, Ytrain, lrT,  labdT, layersT,shuffleTime, simulationT,lrV, labdV, layersV, xvalid_sc, Yvalid, simulationV)\n",
        "\n",
        "avg_results2 = np.asarray(results2)\n",
        "accuracy2 = np.mean(avg_results2[:, 0:1])\n",
        "f1_2 = np.mean(avg_results2[:, 1:2])\n",
        "misclf2 = np.mean(avg_results2[:, 2:3])"
      ],
      "execution_count": 7,
      "outputs": []
    },
    {
      "cell_type": "markdown",
      "metadata": {
        "id": "KoD0ZNFc3c3N",
        "colab_type": "text"
      },
      "source": [
        "Test-3"
      ]
    },
    {
      "cell_type": "code",
      "metadata": {
        "id": "QsH7u0EAhwHV",
        "colab_type": "code",
        "colab": {}
      },
      "source": [
        "#use 90-95-5 data split\n",
        "lrT = 0.01\n",
        "labdT = 0.05\n",
        "layersT = [xtrain_sc.shape[1], 1]\n",
        "shuffleTime = 50\n",
        "simulationT = 10000\n",
        "\n",
        "lrV = 0.01\n",
        "labdV = 0.0005\n",
        "layersV = [xvalid_sc.shape[1], 1]\n",
        "simulationV = 10000\n",
        "results3 = SPLCV(xtrain_sc, Ytrain, lrT,  labdT, layersT,shuffleTime, simulationT,lrV, labdV, layersV, xvalid_sc, Yvalid, simulationV)\n",
        "\n",
        "avg_results3 = np.asarray(results3)\n",
        "accuracy3 = np.mean(avg_results3[:, 0:1])\n",
        "f1_3 = np.mean(avg_results3[:, 1:2])\n",
        "misclf3 = np.mean(avg_results3[:, 2:3])"
      ],
      "execution_count": 9,
      "outputs": []
    },
    {
      "cell_type": "code",
      "metadata": {
        "id": "5M7oP2t4Ad1N",
        "colab_type": "code",
        "colab": {
          "base_uri": "https://localhost:8080/",
          "height": 458
        },
        "outputId": "b3584267-9f59-4a2d-fe5f-907405ddca87"
      },
      "source": [
        "print(\"The accurcay of TEST-1\", accuracy1)\n",
        "print(\"The accurcay of TEST-2\", accuracy2)\n",
        "print(\"The accurcay of TEST-3\", accuracy3)\n",
        "print(\"------------------------------------------------------\")\n",
        "plt.figure(figsize = (5,6))\n",
        "plt.bar(x = ['TEST-1', 'TEST-2', 'TEST-3'], height = [accuracy1, accuracy2, accuracy3], width = 0.4, color = 'orange')\n",
        "plt.title(\"Accuracy between different test samples\")\n",
        "plt.ylabel(\"Accuracy(%)\")\n",
        "plt.show()"
      ],
      "execution_count": 10,
      "outputs": [
        {
          "output_type": "stream",
          "text": [
            "The accurcay of TEST-1 69.22390722569133\n",
            "The accurcay of TEST-2 70.0\n",
            "The accurcay of TEST-3 74.89795918367346\n",
            "------------------------------------------------------\n"
          ],
          "name": "stdout"
        },
        {
          "output_type": "display_data",
          "data": {
            "image/png": "[encoded data removed]",
            "text/plain": [
              "<Figure size 360x432 with 1 Axes>"
            ]
          },
          "metadata": {
            "tags": [],
            "needs_background": "light"
          }
        }
      ]
    },
    {
      "cell_type": "code",
      "metadata": {
        "id": "CcSQIxyY8OpD",
        "colab_type": "code",
        "colab": {
          "base_uri": "https://localhost:8080/",
          "height": 34
        },
        "outputId": "9fbf8a11-54ca-4272-c186-c953760b0241"
      },
      "source": [
        "misclf3"
      ],
      "execution_count": null,
      "outputs": [
        {
          "output_type": "execute_result",
          "data": {
            "text/plain": [
              "25.102040816326532"
            ]
          },
          "metadata": {
            "tags": []
          },
          "execution_count": 19
        }
      ]
    },
    {
      "cell_type": "code",
      "metadata": {
        "id": "8I4B0k1zX14P",
        "colab_type": "code",
        "colab": {}
      },
      "source": [
        ""
      ],
      "execution_count": null,
      "outputs": []
    }
  ]
}